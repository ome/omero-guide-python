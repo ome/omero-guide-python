{
 "cells": [
  {
   "cell_type": "markdown",
   "id": "silent-webmaster",
   "metadata": {},
   "source": [
    "# Load an Image from an OMERO.server, segment it using StarDist and save the results back to the server.\n",
    "\n",
    "The notebook shows:\n",
    "\n",
    " - How to load an image from an OMERO server.\n",
    " - how to segment using a DeepLearning software, [StarDist](https://github.com/stardist/stardist).\n",
    " - How to convert the stardist labels into OME ROIs.\n",
    " - how to save them back to the OMERO.server.\n",
    "\n",
    "The image is referenced in the paper \"NesSys: a novel method for accurate nuclear segmentation in 3D\" published August 2019 in PLOS Biology: https://doi.org/10.1371/journal.pbio.3000388 and can be viewed online in the [Image Data Resource](https://idr.openmicroscopy.org/webclient/?show=image-6001247).\n",
    "\n",
    "\n",
    "In this notebook, the image is loaded and analyzed using a DeepLearning model software [StarDist](https://github.com/stardist/stardist). The StarDist analysis produces a segmentation, which is then converted and saved to the OMERO.server.\n",
    "\n",
    "If you wish to run the notebook locally or run the corresponding [Python script](../scripts/idr0062_prediction_save.py), please read instruction in [README](https://github.com/ome/omero-guide-python/blob/master/README.md)."
   ]
  },
  {
   "cell_type": "markdown",
   "id": "chronic-surgeon",
   "metadata": {},
   "source": [
    "### Install dependencies if required\n",
    "\n",
    "The cell below will install dependencies if you choose to run the notebook in [Google Colab](https://colab.research.google.com/notebooks/intro.ipynb#recent=true). "
   ]
  },
  {
   "cell_type": "code",
   "execution_count": 38,
   "id": "hydraulic-security",
   "metadata": {
    "scrolled": false
   },
   "outputs": [
    {
     "name": "stdout",
     "output_type": "stream",
     "text": [
      "Requirement already satisfied: omero-py in /Users/jmarie/opt/anaconda3/envs/stardist-1/lib/python3.9/site-packages (5.11.1)\n",
      "Requirement already satisfied: stardist==0.8.1 in /Users/jmarie/opt/anaconda3/envs/stardist-1/lib/python3.9/site-packages (0.8.1)\n",
      "Requirement already satisfied: scikit-image in /Users/jmarie/opt/anaconda3/envs/stardist-1/lib/python3.9/site-packages (from stardist==0.8.1) (0.19.2)\n",
      "Requirement already satisfied: numba in /Users/jmarie/opt/anaconda3/envs/stardist-1/lib/python3.9/site-packages (from stardist==0.8.1) (0.55.1)\n",
      "Requirement already satisfied: imageio in /Users/jmarie/opt/anaconda3/envs/stardist-1/lib/python3.9/site-packages (from stardist==0.8.1) (2.17.0)\n",
      "Requirement already satisfied: csbdeep>=0.6.3 in /Users/jmarie/opt/anaconda3/envs/stardist-1/lib/python3.9/site-packages (from stardist==0.8.1) (0.6.3)\n",
      "Requirement already satisfied: zeroc-ice<3.7,>=3.6.4 in /Users/jmarie/opt/anaconda3/envs/stardist-1/lib/python3.9/site-packages (from omero-py) (3.6.5)\n",
      "Requirement already satisfied: future in /Users/jmarie/opt/anaconda3/envs/stardist-1/lib/python3.9/site-packages (from omero-py) (0.18.2)\n",
      "Requirement already satisfied: Pillow in /Users/jmarie/opt/anaconda3/envs/stardist-1/lib/python3.9/site-packages (from omero-py) (9.1.0)\n",
      "Requirement already satisfied: numpy in /Users/jmarie/opt/anaconda3/envs/stardist-1/lib/python3.9/site-packages (from omero-py) (1.21.6)\n",
      "Requirement already satisfied: requests in /Users/jmarie/opt/anaconda3/envs/stardist-1/lib/python3.9/site-packages (from omero-py) (2.27.1)\n",
      "Requirement already satisfied: PyYAML in /Users/jmarie/opt/anaconda3/envs/stardist-1/lib/python3.9/site-packages (from omero-py) (6.0)\n",
      "Requirement already satisfied: appdirs in /Users/jmarie/opt/anaconda3/envs/stardist-1/lib/python3.9/site-packages (from omero-py) (1.4.4)\n",
      "Requirement already satisfied: tifffile in /Users/jmarie/opt/anaconda3/envs/stardist-1/lib/python3.9/site-packages (from csbdeep>=0.6.3->stardist==0.8.1) (2022.4.8)\n",
      "Requirement already satisfied: tqdm in /Users/jmarie/opt/anaconda3/envs/stardist-1/lib/python3.9/site-packages (from csbdeep>=0.6.3->stardist==0.8.1) (4.64.0)\n",
      "Requirement already satisfied: six in /Users/jmarie/opt/anaconda3/envs/stardist-1/lib/python3.9/site-packages (from csbdeep>=0.6.3->stardist==0.8.1) (1.16.0)\n",
      "Requirement already satisfied: matplotlib in /Users/jmarie/opt/anaconda3/envs/stardist-1/lib/python3.9/site-packages (from csbdeep>=0.6.3->stardist==0.8.1) (3.5.1)\n",
      "Requirement already satisfied: h5py>=3 in /Users/jmarie/opt/anaconda3/envs/stardist-1/lib/python3.9/site-packages (from csbdeep>=0.6.3->stardist==0.8.1) (3.6.0)\n",
      "Requirement already satisfied: scipy in /Users/jmarie/opt/anaconda3/envs/stardist-1/lib/python3.9/site-packages (from csbdeep>=0.6.3->stardist==0.8.1) (1.8.0)\n",
      "Requirement already satisfied: setuptools in /Users/jmarie/opt/anaconda3/envs/stardist-1/lib/python3.9/site-packages (from numba->stardist==0.8.1) (62.1.0)\n",
      "Requirement already satisfied: llvmlite<0.39,>=0.38.0rc1 in /Users/jmarie/opt/anaconda3/envs/stardist-1/lib/python3.9/site-packages (from numba->stardist==0.8.1) (0.38.0)\n",
      "Requirement already satisfied: charset-normalizer~=2.0.0 in /Users/jmarie/opt/anaconda3/envs/stardist-1/lib/python3.9/site-packages (from requests->omero-py) (2.0.12)\n",
      "Requirement already satisfied: certifi>=2017.4.17 in /Users/jmarie/opt/anaconda3/envs/stardist-1/lib/python3.9/site-packages (from requests->omero-py) (2021.10.8)\n",
      "Requirement already satisfied: urllib3<1.27,>=1.21.1 in /Users/jmarie/opt/anaconda3/envs/stardist-1/lib/python3.9/site-packages (from requests->omero-py) (1.26.9)\n",
      "Requirement already satisfied: idna<4,>=2.5 in /Users/jmarie/opt/anaconda3/envs/stardist-1/lib/python3.9/site-packages (from requests->omero-py) (3.3)\n",
      "Requirement already satisfied: networkx>=2.2 in /Users/jmarie/opt/anaconda3/envs/stardist-1/lib/python3.9/site-packages (from scikit-image->stardist==0.8.1) (2.8)\n",
      "Requirement already satisfied: packaging>=20.0 in /Users/jmarie/opt/anaconda3/envs/stardist-1/lib/python3.9/site-packages (from scikit-image->stardist==0.8.1) (21.3)\n",
      "Requirement already satisfied: PyWavelets>=1.1.1 in /Users/jmarie/opt/anaconda3/envs/stardist-1/lib/python3.9/site-packages (from scikit-image->stardist==0.8.1) (1.3.0)\n",
      "Requirement already satisfied: pyparsing!=3.0.5,>=2.0.2 in /Users/jmarie/opt/anaconda3/envs/stardist-1/lib/python3.9/site-packages (from packaging>=20.0->scikit-image->stardist==0.8.1) (3.0.8)\n",
      "Requirement already satisfied: cycler>=0.10 in /Users/jmarie/opt/anaconda3/envs/stardist-1/lib/python3.9/site-packages (from matplotlib->csbdeep>=0.6.3->stardist==0.8.1) (0.11.0)\n",
      "Requirement already satisfied: kiwisolver>=1.0.1 in /Users/jmarie/opt/anaconda3/envs/stardist-1/lib/python3.9/site-packages (from matplotlib->csbdeep>=0.6.3->stardist==0.8.1) (1.4.2)\n",
      "Requirement already satisfied: fonttools>=4.22.0 in /Users/jmarie/opt/anaconda3/envs/stardist-1/lib/python3.9/site-packages (from matplotlib->csbdeep>=0.6.3->stardist==0.8.1) (4.33.1)\n",
      "Requirement already satisfied: python-dateutil>=2.7 in /Users/jmarie/opt/anaconda3/envs/stardist-1/lib/python3.9/site-packages (from matplotlib->csbdeep>=0.6.3->stardist==0.8.1) (2.8.2)\n",
      "Note: you may need to restart the kernel to use updated packages.\n"
     ]
    }
   ],
   "source": [
    "%pip install omero-py stardist==0.8.1"
   ]
  },
  {
   "cell_type": "markdown",
   "id": "vocational-spending",
   "metadata": {},
   "source": [
    "### Import "
   ]
  },
  {
   "cell_type": "code",
   "execution_count": 39,
   "id": "intermediate-portland",
   "metadata": {},
   "outputs": [],
   "source": [
    "from omero.gateway import BlitzGateway\n",
    "\n",
    "import matplotlib.pyplot as plt\n",
    "%matplotlib inline\n",
    "import numpy"
   ]
  },
  {
   "cell_type": "markdown",
   "id": "seventh-conditioning",
   "metadata": {},
   "source": [
    "### Create a connection to the OMERO Server"
   ]
  },
  {
   "cell_type": "code",
   "execution_count": 3,
   "id": "stupid-captain",
   "metadata": {},
   "outputs": [
    {
     "name": "stdout",
     "output_type": "stream",
     "text": [
      "Username: trainer-1\n",
      "OMERO Password: ········\n"
     ]
    },
    {
     "data": {
      "text/plain": [
       "True"
      ]
     },
     "execution_count": 3,
     "metadata": {},
     "output_type": "execute_result"
    }
   ],
   "source": [
    "from omero.gateway import BlitzGateway\n",
    "\n",
    "from getpass import getpass\n",
    "\n",
    "HOST = 'wss://workshop.openmicroscopy.org/omero-ws'\n",
    "conn = BlitzGateway(input(\"Username: \"),\n",
    "                    getpass(\"OMERO Password: \"),\n",
    "                    host=HOST, secure=True)\n",
    "conn.connect()"
   ]
  },
  {
   "cell_type": "markdown",
   "id": "resident-cambodia",
   "metadata": {},
   "source": [
    "### ID of the image to analyze"
   ]
  },
  {
   "cell_type": "code",
   "execution_count": 40,
   "id": "urban-refund",
   "metadata": {},
   "outputs": [],
   "source": [
    "image_id = 55506"
   ]
  },
  {
   "cell_type": "code",
   "execution_count": 41,
   "id": "secondary-surname",
   "metadata": {},
   "outputs": [
    {
     "name": "stdout",
     "output_type": "stream",
     "text": [
      "B4_C2.tif\n"
     ]
    }
   ],
   "source": [
    "image = conn.getObject(\"Image\", image_id)\n",
    "print(image.getName())"
   ]
  },
  {
   "cell_type": "markdown",
   "id": "stretch-importance",
   "metadata": {},
   "source": [
    "### Helper method to load the 5D image\n",
    "\n",
    "The image is loaded a TCZYX numpy array."
   ]
  },
  {
   "cell_type": "code",
   "execution_count": 42,
   "id": "massive-semester",
   "metadata": {},
   "outputs": [],
   "source": [
    "def load_numpy_array(image):\n",
    "    pixels = image.getPrimaryPixels()\n",
    "    size_z = image.getSizeZ()\n",
    "    size_c = image.getSizeC()\n",
    "    size_t = image.getSizeT()\n",
    "    size_y = image.getSizeY()\n",
    "    size_x = image.getSizeX()\n",
    "    z, t, c = 0, 0, 0  # first plane of the image\n",
    "\n",
    "    zct_list = []\n",
    "    for t in range(size_t):\n",
    "        for c in range(size_c):  # all channels\n",
    "            for z in range(size_z):  # get the Z-stack\n",
    "                zct_list.append((z, c, t))\n",
    "\n",
    "    values = []\n",
    "    # Load all the planes as YX numpy array\n",
    "    planes = pixels.getPlanes(zct_list)\n",
    "    s = \"t:%s c:%s z:%s y:%s x:%s\" % (size_t, size_c, size_z, size_y, size_x)\n",
    "    print(s)\n",
    "    print(\"Downloading image %s\" % image.getName())\n",
    "    all_planes = numpy.stack(list(planes))\n",
    "    shape = (size_t, size_c, size_z, size_y, size_x)\n",
    "    return numpy.reshape(all_planes, newshape=shape)"
   ]
  },
  {
   "cell_type": "markdown",
   "id": "taken-butler",
   "metadata": {},
   "source": [
    "### Load the binary data\n",
    "Load the binary data as a numpy array"
   ]
  },
  {
   "cell_type": "code",
   "execution_count": 43,
   "id": "focused-smith",
   "metadata": {},
   "outputs": [
    {
     "name": "stdout",
     "output_type": "stream",
     "text": [
      "t:1 c:2 z:257 y:284 x:281\n",
      "Downloading image B4_C2.tif\n"
     ]
    }
   ],
   "source": [
    "data = load_numpy_array(image)"
   ]
  },
  {
   "cell_type": "markdown",
   "id": "certain-dating",
   "metadata": {},
   "source": [
    "## Load StarDist trained model "
   ]
  },
  {
   "cell_type": "code",
   "execution_count": 44,
   "id": "headed-approach",
   "metadata": {},
   "outputs": [
    {
     "name": "stdout",
     "output_type": "stream",
     "text": [
      "Found model '2D_demo' for 'StarDist2D'.\n",
      "Loading network weights from 'weights_best.h5'.\n",
      "Loading thresholds from 'thresholds.json'.\n",
      "Using default values: prob_thresh=0.486166, nms_thresh=0.5.\n"
     ]
    }
   ],
   "source": [
    "from stardist.models import StarDist2D\n",
    "model_versatile = StarDist2D.from_pretrained('2D_demo')"
   ]
  },
  {
   "cell_type": "markdown",
   "id": "reported-output",
   "metadata": {},
   "source": [
    "## Prediction based on a default StarDist model\n",
    "Normalize the input image\n",
    "\n",
    "``model_versatile.predict_instances`` will\n",
    "\n",
    " * predict object probabilities and star-convex polygon distances (see model.predict if you want those)\n",
    " * perform non-maximum suppression (with overlap threshold nms_thresh) for polygons above object probability threshold prob_thresh.\n",
    " * render all remaining polygon instances in a label image\n",
    " * return the label instances image and also the details (coordinates, etc.) of all remaining polygons"
   ]
  },
  {
   "cell_type": "code",
   "execution_count": 45,
   "id": "cultural-sacrifice",
   "metadata": {},
   "outputs": [],
   "source": [
    "from csbdeep.utils import normalize\n",
    "axis_norm = (0,1)\n",
    "c = 1\n",
    "img = normalize(data[0, c, :, :, :], 1,99.8, axis=axis_norm)\n",
    "results = []\n",
    "results_details = []\n",
    "for i in range(len(img)):\n",
    "    new_labels, details = model_versatile.predict_instances(img[i])\n",
    "    results_details.append(details)\n",
    "    results.append(new_labels)\n",
    "\n",
    "label_slices = numpy.array(results)"
   ]
  },
  {
   "cell_type": "markdown",
   "id": "4d4fac89",
   "metadata": {},
   "source": [
    "## Save the StarDist labels\n",
    "\n",
    "StarDist offers method to save the labels into ImageJ rois using ``export_imagej_rois``. This is outside the scope of this notebook. \n",
    "\n",
    "Below we show how to save the segmentation represented as polygon to the OMERO.server.\n",
    "* Convert the StarDist polygon coordinates into OME Polygons\n",
    "* Save the output back to the OMERO.server."
   ]
  },
  {
   "cell_type": "code",
   "execution_count": 46,
   "id": "ee12c2d0",
   "metadata": {},
   "outputs": [],
   "source": [
    "# Helper for generating the color integers for shapes\n",
    "def rgba_to_int(red, green, blue, alpha=255):\n",
    "    \"\"\" Return the color as an Integer in RGBA encoding \"\"\"\n",
    "    r = red << 24\n",
    "    g = green << 16\n",
    "    b = blue << 8\n",
    "    a = alpha\n",
    "    rgba_int = r+g+b+a\n",
    "    if (rgba_int > (2**31-1)):       # convert to signed 32-bit int\n",
    "        rgba_int = rgba_int - 2**32\n",
    "    return rgba_int"
   ]
  },
  {
   "cell_type": "code",
   "execution_count": null,
   "id": "fc918964",
   "metadata": {},
   "outputs": [],
   "source": [
    "# Convert into OME Polygons\n",
    "import omero\n",
    "c = 1\n",
    "\n",
    "rois = []\n",
    "for i in range(len(results_details)):\n",
    "    details = results_details[i]\n",
    "    roi = omero.model.RoiI()\n",
    "    roi.setImage(image._obj)\n",
    "    for obj_id, region in enumerate(details['coord']):\n",
    "        coordinates = []\n",
    "        x = region[1]\n",
    "        y = region[0]\n",
    "        for j in range(len(x)):\n",
    "            coordinates.append(str(float(x[j])) + \",\" + str(float(y[j])))\n",
    "        joined_string = \", \". join(coordinates)\n",
    "        polygon = omero.model.PolygonI()\n",
    "        polygon.theZ = omero.rtypes.rint(i)\n",
    "        polygon.theC = omero.rtypes.rint(c)\n",
    "        polygon.fillColor = omero.rtypes.rint(rgba_to_int(255, 0, 255, 50))\n",
    "        polygon.strokeColor = omero.rtypes.rint(rgba_to_int(255, 255, 0))\n",
    "        polygon.strokeWidth = omero.model.LengthI(10, omero.model.enums.UnitsLength.PIXEL)\n",
    "        polygon.points = omero.rtypes.rstring(joined_string)\n",
    "        polygon.textValue = omero.rtypes.rstring(\"stardist\")\n",
    "        roi.addShape(polygon)\n",
    "        rois.append(roi)\n",
    "conn.getUpdateService().saveCollection(rois)"
   ]
  },
  {
   "cell_type": "markdown",
   "id": "abd453c0",
   "metadata": {},
   "source": [
    "### Close the connection  "
   ]
  },
  {
   "cell_type": "code",
   "execution_count": null,
   "id": "64c16247",
   "metadata": {},
   "outputs": [],
   "source": [
    "conn.close()"
   ]
  },
  {
   "cell_type": "markdown",
   "id": "computational-brain",
   "metadata": {},
   "source": [
    "### License (BSD 2-Clause)\n",
    "Copyright (C) 2022 University of Dundee. All Rights Reserved.\n",
    "\n",
    "Redistribution and use in source and binary forms, with or without modification, are permitted provided that the following conditions are met:\n",
    "\n",
    "Redistributions of source code must retain the above copyright notice, this list of conditions and the following disclaimer.\n",
    "Redistributions in binary form must reproduce the above copyright notice, this list of conditions and the following disclaimer in the documentation and/or other materials provided with the distribution.\n",
    "THIS SOFTWARE IS PROVIDED BY THE COPYRIGHT HOLDERS AND CONTRIBUTORS \"AS IS\" AND ANY EXPRESS OR IMPLIED WARRANTIES, INCLUDING, BUT NOT LIMITED TO, THE IMPLIED WARRANTIES OF MERCHANTABILITY AND FITNESS FOR A PARTICULAR PURPOSE ARE DISCLAIMED. IN NO EVENT SHALL THE COPYRIGHT OWNER OR CONTRIBUTORS BE LIABLE FOR ANY DIRECT, INDIRECT, INCIDENTAL, SPECIAL, EXEMPLARY, OR CONSEQUENTIAL DAMAGES (INCLUDING, BUT NOT LIMITED TO, PROCUREMENT OF SUBSTITUTE GOODS OR SERVICES; LOSS OF USE, DATA, OR PROFITS; OR BUSINESS INTERRUPTION) HOWEVER CAUSED AND ON ANY THEORY OF LIABILITY, WHETHER IN CONTRACT, STRICT LIABILITY, OR TORT (INCLUDING NEGLIGENCE OR OTHERWISE) ARISING IN ANY WAY OUT OF THE USE OF THIS SOFTWARE, EVEN IF ADVISED OF THE POSSIBILITY OF SUCH DAMAGE. "
   ]
  }
 ],
 "metadata": {
  "kernelspec": {
   "display_name": "stardist-1",
   "language": "python",
   "name": "stardist-1"
  },
  "language_info": {
   "codemirror_mode": {
    "name": "ipython",
    "version": 3
   },
   "file_extension": ".py",
   "mimetype": "text/x-python",
   "name": "python",
   "nbconvert_exporter": "python",
   "pygments_lexer": "ipython3",
   "version": "3.9.12"
  }
 },
 "nbformat": 4,
 "nbformat_minor": 5
}
