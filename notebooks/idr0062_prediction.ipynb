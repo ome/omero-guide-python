{
 "cells": [
  {
   "cell_type": "markdown",
   "id": "silent-webmaster",
   "metadata": {},
   "source": [
    "# Load Image with labels from IDR, analyze using StarDist and compare results\n",
    "\n",
    "The notebook shows how to load an IDR image with labels.\n",
    "\n",
    "The image is referenced in the paper \"NesSys: a novel method for accurate nuclear segmentation in 3D\" published August 2019 in PLOS Biology: https://doi.org/10.1371/journal.pbio.3000388 and can be viewed online in the [Image Data Resource](https://idr.openmicroscopy.org/webclient/?show=image-6001247).\n",
    "\n",
    "\n",
    "In this notebook, the image is loaded together with the labels and analyzed using [StarDist](https://stardist.net/docs/index.html). The StarDist analysis produces a segmentation, which is then viewed side-by-side with the original segmentations produced by the authors of the paper obtained via the loaded labels. "
   ]
  },
  {
   "cell_type": "markdown",
   "id": "chronic-surgeon",
   "metadata": {},
   "source": [
    "### Install dependencies if required\n",
    "\n",
    "The cell below will install dependencies if you choose to run the notebook in [Google Colab](https://colab.research.google.com/notebooks/intro.ipynb#recent=true). "
   ]
  },
  {
   "cell_type": "code",
   "execution_count": 1,
   "id": "hydraulic-security",
   "metadata": {
    "scrolled": true
   },
   "outputs": [
    {
     "name": "stdout",
     "output_type": "stream",
     "text": [
      "Requirement already satisfied: omero-py in /srv/conda/envs/notebook/lib/python3.7/site-packages (5.11.0)\n",
      "Requirement already satisfied: stardist in /srv/conda/envs/notebook/lib/python3.7/site-packages (0.7.3)\n",
      "Requirement already satisfied: zeroc-ice<3.7,>=3.6.4 in /srv/conda/envs/notebook/lib/python3.7/site-packages (from omero-py) (3.6.5)\n",
      "Requirement already satisfied: numpy in /srv/conda/envs/notebook/lib/python3.7/site-packages (from omero-py) (1.21.5)\n",
      "Requirement already satisfied: PyYAML in /srv/conda/envs/notebook/lib/python3.7/site-packages (from omero-py) (6.0)\n",
      "Requirement already satisfied: requests in /srv/conda/envs/notebook/lib/python3.7/site-packages (from omero-py) (2.25.1)\n",
      "Requirement already satisfied: appdirs in /srv/conda/envs/notebook/lib/python3.7/site-packages (from omero-py) (1.4.4)\n",
      "Requirement already satisfied: future in /srv/conda/envs/notebook/lib/python3.7/site-packages (from omero-py) (0.18.2)\n",
      "Requirement already satisfied: Pillow in /srv/conda/envs/notebook/lib/python3.7/site-packages (from omero-py) (8.4.0)\n",
      "Requirement already satisfied: scikit-image in /srv/conda/envs/notebook/lib/python3.7/site-packages (from stardist) (0.19.2)\n",
      "Requirement already satisfied: numba in /srv/conda/envs/notebook/lib/python3.7/site-packages (from stardist) (0.55.1)\n",
      "Requirement already satisfied: csbdeep>=0.6.3 in /srv/conda/envs/notebook/lib/python3.7/site-packages (from stardist) (0.6.3)\n",
      "Requirement already satisfied: six in /srv/conda/envs/notebook/lib/python3.7/site-packages (from csbdeep>=0.6.3->stardist) (1.15.0)\n",
      "Requirement already satisfied: tifffile in /srv/conda/envs/notebook/lib/python3.7/site-packages (from csbdeep>=0.6.3->stardist) (2021.11.2)\n",
      "Requirement already satisfied: h5py<3 in /srv/conda/envs/notebook/lib/python3.7/site-packages (from csbdeep>=0.6.3->stardist) (2.10.0)\n",
      "Requirement already satisfied: matplotlib in /srv/conda/envs/notebook/lib/python3.7/site-packages (from csbdeep>=0.6.3->stardist) (3.5.1)\n",
      "Requirement already satisfied: scipy in /srv/conda/envs/notebook/lib/python3.7/site-packages (from csbdeep>=0.6.3->stardist) (1.7.3)\n",
      "Requirement already satisfied: tqdm in /srv/conda/envs/notebook/lib/python3.7/site-packages (from csbdeep>=0.6.3->stardist) (4.62.3)\n",
      "Requirement already satisfied: fonttools>=4.22.0 in /srv/conda/envs/notebook/lib/python3.7/site-packages (from matplotlib->csbdeep>=0.6.3->stardist) (4.29.1)\n",
      "Requirement already satisfied: python-dateutil>=2.7 in /srv/conda/envs/notebook/lib/python3.7/site-packages (from matplotlib->csbdeep>=0.6.3->stardist) (2.8.1)\n",
      "Requirement already satisfied: packaging>=20.0 in /srv/conda/envs/notebook/lib/python3.7/site-packages (from matplotlib->csbdeep>=0.6.3->stardist) (20.9)\n",
      "Requirement already satisfied: pyparsing>=2.2.1 in /srv/conda/envs/notebook/lib/python3.7/site-packages (from matplotlib->csbdeep>=0.6.3->stardist) (2.4.7)\n",
      "Requirement already satisfied: cycler>=0.10 in /srv/conda/envs/notebook/lib/python3.7/site-packages (from matplotlib->csbdeep>=0.6.3->stardist) (0.11.0)\n",
      "Requirement already satisfied: kiwisolver>=1.0.1 in /srv/conda/envs/notebook/lib/python3.7/site-packages (from matplotlib->csbdeep>=0.6.3->stardist) (1.3.2)\n",
      "Requirement already satisfied: setuptools in /srv/conda/envs/notebook/lib/python3.7/site-packages (from numba->stardist) (49.6.0.post20210108)\n",
      "Requirement already satisfied: llvmlite<0.39,>=0.38.0rc1 in /srv/conda/envs/notebook/lib/python3.7/site-packages (from numba->stardist) (0.38.0)\n",
      "Requirement already satisfied: chardet<5,>=3.0.2 in /srv/conda/envs/notebook/lib/python3.7/site-packages (from requests->omero-py) (4.0.0)\n",
      "Requirement already satisfied: certifi>=2017.4.17 in /srv/conda/envs/notebook/lib/python3.7/site-packages (from requests->omero-py) (2020.12.5)\n",
      "Requirement already satisfied: urllib3<1.27,>=1.21.1 in /srv/conda/envs/notebook/lib/python3.7/site-packages (from requests->omero-py) (1.26.3)\n",
      "Requirement already satisfied: idna<3,>=2.5 in /srv/conda/envs/notebook/lib/python3.7/site-packages (from requests->omero-py) (2.10)\n",
      "Requirement already satisfied: networkx>=2.2 in /srv/conda/envs/notebook/lib/python3.7/site-packages (from scikit-image->stardist) (2.6.3)\n",
      "Requirement already satisfied: imageio>=2.4.1 in /srv/conda/envs/notebook/lib/python3.7/site-packages (from scikit-image->stardist) (2.16.0)\n",
      "Requirement already satisfied: PyWavelets>=1.1.1 in /srv/conda/envs/notebook/lib/python3.7/site-packages (from scikit-image->stardist) (1.2.0)\n",
      "Note: you may need to restart the kernel to use updated packages.\n"
     ]
    }
   ],
   "source": [
    "%pip install omero-py stardist geojson"
   ]
  },
  {
   "cell_type": "markdown",
   "id": "vocational-spending",
   "metadata": {},
   "source": [
    "### Import "
   ]
  },
  {
   "cell_type": "code",
   "execution_count": 1,
   "id": "intermediate-portland",
   "metadata": {},
   "outputs": [],
   "source": [
    "from omero.gateway import BlitzGateway\n",
    "\n",
    "import matplotlib.pyplot as plt\n",
    "%matplotlib inline\n",
    "import numpy"
   ]
  },
  {
   "cell_type": "markdown",
   "id": "seventh-conditioning",
   "metadata": {},
   "source": [
    "### Create a connection to IDR"
   ]
  },
  {
   "cell_type": "code",
   "execution_count": 2,
   "id": "stupid-captain",
   "metadata": {},
   "outputs": [
    {
     "name": "stdout",
     "output_type": "stream",
     "text": [
      "True\n"
     ]
    }
   ],
   "source": [
    "HOST = 'ws://idr.openmicroscopy.org/omero-ws'\n",
    "conn = BlitzGateway('public', 'public',\n",
    "                    host=HOST, secure=True)\n",
    "print(conn.connect())\n",
    "conn.c.enableKeepAlive(60)"
   ]
  },
  {
   "cell_type": "markdown",
   "id": "resident-cambodia",
   "metadata": {},
   "source": [
    "### IDR image to analyze"
   ]
  },
  {
   "cell_type": "code",
   "execution_count": 3,
   "id": "urban-refund",
   "metadata": {},
   "outputs": [],
   "source": [
    "image_id = 6001247"
   ]
  },
  {
   "cell_type": "code",
   "execution_count": 4,
   "id": "secondary-surname",
   "metadata": {},
   "outputs": [],
   "source": [
    "image = conn.getObject(\"Image\", image_id)"
   ]
  },
  {
   "cell_type": "markdown",
   "id": "stretch-importance",
   "metadata": {},
   "source": [
    "### Helper method to load the 5D image\n",
    "\n",
    "The image is loaded a TCZYX numpy array to match the Zarr file."
   ]
  },
  {
   "cell_type": "code",
   "execution_count": 5,
   "id": "massive-semester",
   "metadata": {},
   "outputs": [],
   "source": [
    "def load_numpy_array(image):\n",
    "    pixels = image.getPrimaryPixels()\n",
    "    size_z = image.getSizeZ()\n",
    "    size_c = image.getSizeC()\n",
    "    size_t = image.getSizeT()\n",
    "    size_y = image.getSizeY()\n",
    "    size_x = image.getSizeX()\n",
    "    z, t, c = 0, 0, 0  # first plane of the image\n",
    "\n",
    "    zct_list = []\n",
    "    for t in range(size_t):\n",
    "        for c in range(size_c):  # all channels\n",
    "            for z in range(size_z):  # get the Z-stack\n",
    "                zct_list.append((z, c, t))\n",
    "\n",
    "    values = []\n",
    "    # Load all the planes as YX numpy array\n",
    "    planes = pixels.getPlanes(zct_list)\n",
    "    s = \"t:%s c:%s z:%s y:%s x:%s\" % (size_t, size_c, size_z, size_y, size_x)\n",
    "    print(s)\n",
    "    print(\"Downloading image %s\" % image.getName())\n",
    "    all_planes = numpy.stack(list(planes))\n",
    "    shape = (size_t, size_c, size_z, size_y, size_x)\n",
    "    return numpy.reshape(all_planes, newshape=shape)"
   ]
  },
  {
   "cell_type": "markdown",
   "id": "taken-butler",
   "metadata": {},
   "source": [
    "### Load the data "
   ]
  },
  {
   "cell_type": "code",
   "execution_count": 6,
   "id": "focused-smith",
   "metadata": {},
   "outputs": [
    {
     "name": "stdout",
     "output_type": "stream",
     "text": [
      "t:1 c:2 z:257 y:210 x:253\n",
      "Downloading image B4_C3.tif\n"
     ]
    }
   ],
   "source": [
    "data = load_numpy_array(image)"
   ]
  },
  {
   "cell_type": "markdown",
   "id": "modified-consent",
   "metadata": {},
   "source": [
    "### Load the labels\n",
    "\n",
    "Labels have been saved as mask."
   ]
  },
  {
   "cell_type": "code",
   "execution_count": 8,
   "id": "cc8a8a7f",
   "metadata": {},
   "outputs": [],
   "source": [
    "from omero_zarr import masks"
   ]
  },
  {
   "cell_type": "code",
   "execution_count": 9,
   "id": "italian-donna",
   "metadata": {},
   "outputs": [],
   "source": [
    "roi_service = conn.getRoiService()\n",
    "result = roi_service.findByImage(image_id, None)\n",
    "\n",
    "dims = (image.getSizeT(), image.getSizeC(), image.getSizeZ(), image.getSizeY(), image.getSizeX())\n",
    "shapes = []\n",
    "for roi in result.rois:\n",
    "    shapes.append(roi.copyShapes())\n",
    "\n",
    "saver = masks.MaskSaver(None, image, numpy.int64)\n",
    "labels, fillColors, properties = saver.masks_to_labels(shapes, mask_shape=dims)"
   ]
  },
  {
   "cell_type": "code",
   "execution_count": 10,
   "id": "19d6b9bf",
   "metadata": {},
   "outputs": [
    {
     "name": "stdout",
     "output_type": "stream",
     "text": [
      "(1, 2, 257, 210, 253)\n"
     ]
    }
   ],
   "source": [
    "print(labels.shape)"
   ]
  },
  {
   "cell_type": "markdown",
   "id": "certain-dating",
   "metadata": {},
   "source": [
    "## Load stardist trained model "
   ]
  },
  {
   "cell_type": "code",
   "execution_count": 11,
   "id": "headed-approach",
   "metadata": {},
   "outputs": [
    {
     "name": "stdout",
     "output_type": "stream",
     "text": [
      "Found model '2D_demo' for 'StarDist2D'.\n",
      "Loading network weights from 'weights_best.h5'.\n",
      "Loading thresholds from 'thresholds.json'.\n",
      "Using default values: prob_thresh=0.486166, nms_thresh=0.5.\n"
     ]
    },
    {
     "name": "stderr",
     "output_type": "stream",
     "text": [
      "2022-03-31 15:36:56.446321: I tensorflow/core/platform/cpu_feature_guard.cc:151] This TensorFlow binary is optimized with oneAPI Deep Neural Network Library (oneDNN) to use the following CPU instructions in performance-critical operations:  SSE4.1 SSE4.2\n",
      "To enable them in other operations, rebuild TensorFlow with the appropriate compiler flags.\n"
     ]
    }
   ],
   "source": [
    "from stardist.models import StarDist2D\n",
    "model_versatile = StarDist2D.from_pretrained('2D_demo')"
   ]
  },
  {
   "cell_type": "markdown",
   "id": "reported-output",
   "metadata": {},
   "source": [
    "## Prediction based on a default StarDist model\n",
    "Normalize the input image\n",
    "\n",
    "``model_versatile.predict_instances`` will\n",
    "\n",
    " * predict object probabilities and star-convex polygon distances (see model.predict if you want those)\n",
    " * perform non-maximum suppression (with overlap threshold nms_thresh) for polygons above object probability threshold prob_thresh.\n",
    " * render all remaining polygon instances in a label image\n",
    " * return the label instances image and also the details (coordinates, etc.) of all remaining polygons"
   ]
  },
  {
   "cell_type": "code",
   "execution_count": 80,
   "id": "cultural-sacrifice",
   "metadata": {},
   "outputs": [],
   "source": [
    "from csbdeep.utils import normalize\n",
    "from geojson import Feature, FeatureCollection, Polygon\n",
    "axis_norm = (0,1)\n",
    "img = normalize(data[0, 0, :, :, :], 1,99.8, axis=axis_norm)\n",
    "results = []\n",
    "shapes = []\n",
    "c = 0\n",
    "for i in range(len(img)):\n",
    "    new_labels, details = model_versatile.predict_instances(img[i])\n",
    "    # Convert into Polygon and add to Geometry Collection\n",
    "    for obj_id, region in enumerate(details['coord']):\n",
    "        coordinates = []\n",
    "        x = region[1]\n",
    "        y = region[0]\n",
    "        for j in range(len(x)):\n",
    "            coordinates.append((float(x[j]), float(y[j])))\n",
    "        # append the first coordinate to close the polygon\n",
    "        coordinates.append(coordinates[0])\n",
    "        shape = Polygon(coordinates)\n",
    "        properties = {\n",
    "            \"stroke-width\": 1,\n",
    "            \"z\": i,\n",
    "            \"c\": c,\n",
    "        }\n",
    "        shapes.append(Feature(geometry=shape, properties=properties))    \n",
    "    results.append(new_labels)\n",
    "\n",
    "label_slices = numpy.array(results)\n",
    "gc = FeatureCollection(shapes)"
   ]
  },
  {
   "cell_type": "markdown",
   "id": "78d8d0dc",
   "metadata": {},
   "source": [
    "## Save the Stardist labels\n",
    "Save the labels locally in a machine and human readable format: geojson.\n",
    "Stardist offers method to save the labels into ImageJ rois using ``export_imagej_rois``. This is outside the scope of this notebook.\n"
   ]
  },
  {
   "cell_type": "code",
   "execution_count": 81,
   "id": "52d669c0",
   "metadata": {},
   "outputs": [],
   "source": [
    "# Save the shapes as geojson\n",
    "import geojson\n",
    "geojson_file = \"stardist_shapes_%s.geojson\" % image_id\n",
    "geojson_dump = geojson.dumps(gc, sort_keys=True)\n",
    "with open(geojson_file, 'w') as out:\n",
    "    out.write(geojson_dump)"
   ]
  },
  {
   "cell_type": "markdown",
   "id": "requested-parking",
   "metadata": {},
   "source": [
    "## Compare labels\n",
    "Display the original labels and the labels based on StarDist prediction side-by-side"
   ]
  },
  {
   "cell_type": "code",
   "execution_count": 14,
   "id": "cooked-puppy",
   "metadata": {},
   "outputs": [
    {
     "data": {
      "application/vnd.jupyter.widget-view+json": {
       "model_id": "ea7088b1ce7a4ecc8c89760f16ca290e",
       "version_major": 2,
       "version_minor": 0
      },
      "text/plain": [
       "interactive(children=(IntSlider(value=1, continuous_update=False, description='Select Z', max=256), Output()),…"
      ]
     },
     "metadata": {},
     "output_type": "display_data"
    },
    {
     "data": {
      "text/plain": [
       "<function __main__.update(z=0)>"
      ]
     },
     "execution_count": 14,
     "metadata": {},
     "output_type": "execute_result"
    }
   ],
   "source": [
    "from ipywidgets import *\n",
    "\n",
    "def update(z=0):\n",
    "    c = 0\n",
    "    fig = plt.figure(figsize=(10, 10))\n",
    "    plt.subplot(121)\n",
    "    plt.imshow(data[0, c, z, :, :], cmap='gray')\n",
    "    try:\n",
    "        plt.imshow(labels[0, c, z, :, :], cmap='jet', alpha=0.5)\n",
    "    except Exception:\n",
    "        print(z)\n",
    "    plt.subplot(122)\n",
    "    plt.imshow(data[0, c, z, :, :], cmap='gray')\n",
    "    plt.imshow(label_slices[z, :, :], cmap='jet', alpha=0.5)\n",
    "    plt.tight_layout()\n",
    "    fig.canvas.flush_events()\n",
    "\n",
    "interact(update, z= widgets.IntSlider(value=1, min=0, max=data.shape[2]-1, step=1, description=\"Select Z\", continuous_update=False))"
   ]
  },
  {
   "cell_type": "markdown",
   "id": "fundamental-raise",
   "metadata": {},
   "source": [
    "### Close the connection  "
   ]
  },
  {
   "cell_type": "code",
   "execution_count": 13,
   "id": "interior-summit",
   "metadata": {},
   "outputs": [],
   "source": [
    "conn.close()"
   ]
  },
  {
   "cell_type": "markdown",
   "id": "d2b111fe",
   "metadata": {},
   "source": [
    "## Exercises\n",
    "\n",
    "**Exercise 1:**\n",
    " - Using the json library, read the geojson file into a variable in this notebook\n",
    " - Display the shapes on a selected z-section e.g. z = 5.\n",
    "\n",
    "**Exercise 2:**\n",
    " - Convert the Stardist labels into OMERO polygons.\n",
    " - Save the converted labels to an OMERO.server if possible.\n",
    " \n",
    " \n",
    "See [Solutions](Solution_Exercises.ipynb)"
   ]
  },
  {
   "cell_type": "markdown",
   "id": "computational-brain",
   "metadata": {},
   "source": [
    "### License (BSD 2-Clause)\n",
    "Copyright (C) 2022 University of Dundee. All Rights Reserved.\n",
    "\n",
    "Redistribution and use in source and binary forms, with or without modification, are permitted provided that the following conditions are met:\n",
    "\n",
    "Redistributions of source code must retain the above copyright notice, this list of conditions and the following disclaimer.\n",
    "Redistributions in binary form must reproduce the above copyright notice, this list of conditions and the following disclaimer in the documentation and/or other materials provided with the distribution.\n",
    "THIS SOFTWARE IS PROVIDED BY THE COPYRIGHT HOLDERS AND CONTRIBUTORS \"AS IS\" AND ANY EXPRESS OR IMPLIED WARRANTIES, INCLUDING, BUT NOT LIMITED TO, THE IMPLIED WARRANTIES OF MERCHANTABILITY AND FITNESS FOR A PARTICULAR PURPOSE ARE DISCLAIMED. IN NO EVENT SHALL THE COPYRIGHT OWNER OR CONTRIBUTORS BE LIABLE FOR ANY DIRECT, INDIRECT, INCIDENTAL, SPECIAL, EXEMPLARY, OR CONSEQUENTIAL DAMAGES (INCLUDING, BUT NOT LIMITED TO, PROCUREMENT OF SUBSTITUTE GOODS OR SERVICES; LOSS OF USE, DATA, OR PROFITS; OR BUSINESS INTERRUPTION) HOWEVER CAUSED AND ON ANY THEORY OF LIABILITY, WHETHER IN CONTRACT, STRICT LIABILITY, OR TORT (INCLUDING NEGLIGENCE OR OTHERWISE) ARISING IN ANY WAY OUT OF THE USE OF THIS SOFTWARE, EVEN IF ADVISED OF THE POSSIBILITY OF SUCH DAMAGE. "
   ]
  }
 ],
 "metadata": {
  "kernelspec": {
   "display_name": "Python [conda env:stardist]",
   "language": "python",
   "name": "conda-env-stardist-py"
  },
  "language_info": {
   "codemirror_mode": {
    "name": "ipython",
    "version": 3
   },
   "file_extension": ".py",
   "mimetype": "text/x-python",
   "name": "python",
   "nbconvert_exporter": "python",
   "pygments_lexer": "ipython3",
   "version": "3.9.12"
  }
 },
 "nbformat": 4,
 "nbformat_minor": 5
}
