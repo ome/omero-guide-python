{
 "cells": [
  {
   "cell_type": "markdown",
   "metadata": {},
   "source": [
    "# Load Zarr Image from a public S3 store and analyze it in parallel\n",
    "\n",
    "[![Open in Colab](https://colab.research.google.com/assets/colab-badge.svg)](https://colab.research.google.com/github/ome/omero-guide-python/blob/master/notebooks/zarr-public-s3-segmentation-parallel.ipynb)\n",
    "\n",
    "The images are taken from  the paper \"In Toto Imaging and Reconstruction of Post-Implantation Mouse Development at the Single-Cell Level\" published October 2018 in Cell: https://doi.org/10.1016/j.cell.2018.09.031. The images can be viewed online in the [Image Data Resource](http://idr.openmicroscopy.org/webclient/?show=project-502).\n",
    "\n",
    "Some images from the Image Data Resource (IDR) have been converted into Zarr using [bioformats2raw](https://github.com/glencoesoftware/bioformats2raw) and stored on a public S3 store.\n",
    "\n",
    "What is **Zarr**? [Zarr](https://zarr.readthedocs.io/en/stable/) is a young format for the storage of chunked, compressed, N-dimensional arrays.\n",
    "\n",
    "We will use [Dask](https://docs.dask.org/en/latest/), a flexible library for parallel computing in Python. "
   ]
  },
  {
   "cell_type": "markdown",
   "metadata": {},
   "source": [
    "### Install dependencies if required\n",
    "The cell below will install dependencies if you choose to run the notebook in [Google Colab](https://colab.research.google.com/notebooks/intro.ipynb#recent=true). "
   ]
  },
  {
   "cell_type": "code",
   "execution_count": null,
   "metadata": {},
   "outputs": [],
   "source": [
    "# Package to access data on S3\n",
    "%pip install aiohttp==3.9.5 zarr==2.17.2 dask-image==2023.8.1"
   ]
  },
  {
   "cell_type": "markdown",
   "metadata": {},
   "source": [
    "### Import "
   ]
  },
  {
   "cell_type": "code",
   "execution_count": 1,
   "metadata": {},
   "outputs": [],
   "source": [
    "import dask\n",
    "import dask.array as da\n",
    "import dask_image.ndfilters\n",
    "import dask_image.ndmeasure\n",
    "\n",
    "import matplotlib.pyplot as plt\n",
    "%matplotlib inline"
   ]
  },
  {
   "cell_type": "markdown",
   "metadata": {},
   "source": [
    "### ID of the IDR image to analyze\n",
    "The original image ID is used to identify the file on the S3 store."
   ]
  },
  {
   "cell_type": "code",
   "execution_count": 2,
   "metadata": {},
   "outputs": [],
   "source": [
    "image_id = 4007801"
   ]
  },
  {
   "cell_type": "markdown",
   "metadata": {},
   "source": [
    "### Load Zarr Image from S3\n",
    "\n",
    "The method will return a dask array without any binary data. The dimension order is ``(TCZYX)``. Data will be loaded when requested during the analysis."
   ]
  },
  {
   "cell_type": "code",
   "execution_count": 3,
   "metadata": {},
   "outputs": [],
   "source": [
    "def load_binary_from_s3(id, resolution='4'):\n",
    "    endpoint_url = 'https://uk1s3.embassy.ebi.ac.uk/'\n",
    "    root = 'idr/zarr/v0.1/%s.zarr/%s/' % (id, resolution)\n",
    "    return da.from_zarr(endpoint_url + root)"
   ]
  },
  {
   "cell_type": "code",
   "execution_count": 4,
   "metadata": {},
   "outputs": [],
   "source": [
    "# Load the dask array\n",
    "data = load_binary_from_s3(image_id)"
   ]
  },
  {
   "cell_type": "code",
   "execution_count": 5,
   "metadata": {
    "scrolled": true
   },
   "outputs": [
    {
     "name": "stdout",
     "output_type": "stream",
     "text": [
      "(532, 2, 988, 128, 135)\n"
     ]
    }
   ],
   "source": [
    "# Check the dimension of the array\n",
    "print(data.shape)"
   ]
  },
  {
   "cell_type": "markdown",
   "metadata": {},
   "source": [
    "### Segment the image\n",
    "This could be replaced by the analysis you wish to perform on a plane."
   ]
  },
  {
   "cell_type": "code",
   "execution_count": 6,
   "metadata": {},
   "outputs": [],
   "source": [
    "def analyze(t, c, z):\n",
    "    plane = data[t, c, z, :, :] \n",
    "    smoothed_image = dask_image.ndfilters.gaussian_filter(plane, sigma=[1, 1])\n",
    "    threshold_value = 0.33 * da.max(smoothed_image).compute()\n",
    "    threshold_image = smoothed_image > threshold_value\n",
    "    label_image, num_labels = dask_image.ndmeasure.label(threshold_image)\n",
    "    name = \"t:%s, c: %s, z:%s\" % (t, c, z)\n",
    "    return label_image, name"
   ]
  },
  {
   "cell_type": "markdown",
   "metadata": {},
   "source": [
    "### Use Dask Delayed "
   ]
  },
  {
   "cell_type": "markdown",
   "metadata": {},
   "source": [
    "We use ``dask.delayed`` on our function so it records what we want to compute as a task into a graph that will run later on parallel hardware.\n",
    "\n",
    "Due to the size of the image, we only analyze in the context of this notebook a few planes around the middle z-section and middle timepoint for the first channel. In total, we are analyzing 100 planes."
   ]
  },
  {
   "cell_type": "code",
   "execution_count": 7,
   "metadata": {},
   "outputs": [
    {
     "name": "stdout",
     "output_type": "stream",
     "text": [
      "[Delayed('analyze-72d81e9b-acc4-430e-a653-588ac70a538c'), Delayed('analyze-c32055a6-80f0-403f-b3fc-b329b567c50e'), Delayed('analyze-9a60668a-0f71-4e02-8a13-2c6801140f53'), Delayed('analyze-c9764adc-c36d-487c-907c-15cbef66befa'), Delayed('analyze-45bcbac6-d3c5-4fed-b5dc-65600107d2de'), Delayed('analyze-0ae6f934-30d6-4600-846a-24eadf990de3'), Delayed('analyze-c5068243-01f1-4e8e-b267-86c5d0bf9b40'), Delayed('analyze-66472bda-a471-4c16-9542-b99b45a6b955'), Delayed('analyze-73bf6e00-1436-4ddf-a06e-a84837b6b881'), Delayed('analyze-8c697e1c-01ea-4624-99a3-f9f99ee46e95'), Delayed('analyze-311f1a60-df41-4b44-95ab-ad6ef71136dc'), Delayed('analyze-4eb87cc5-b421-4ae5-b31a-607bac371abe'), Delayed('analyze-7b3d959e-ed32-4fc2-8b40-cc4f09b928a0'), Delayed('analyze-ce83b0c4-f047-4154-ad83-6d4a5e40726d'), Delayed('analyze-deb21d40-ecbd-4a8a-b0aa-852c08336cab'), Delayed('analyze-5acf941a-b15b-48dd-ac41-b57e3530d152'), Delayed('analyze-2c2a9ece-2628-4505-9124-0f9936807a0e'), Delayed('analyze-1a8c3ca2-83a0-45b1-adf3-340eb768715d'), Delayed('analyze-db512dd5-9673-401f-b59a-767707dc1d35'), Delayed('analyze-ec22e400-bff6-4ee7-aca5-8848270bc50f'), Delayed('analyze-15a140cc-bed3-4574-ab8d-1bbcdf3287fb'), Delayed('analyze-fb453c77-8ac3-45a2-8413-38384a5a94e6'), Delayed('analyze-2528656b-1279-490d-99eb-f1ba2c83629b'), Delayed('analyze-4be5d088-30f0-44a4-86f3-f24424a4d49b'), Delayed('analyze-bc48f51e-ceeb-40ec-bfb0-72a61e56e02c'), Delayed('analyze-1abbc5b3-2c2a-41a2-a1a7-a990a7683909'), Delayed('analyze-c3412d4c-ccd6-4862-814e-edf43b7ce685'), Delayed('analyze-58988730-e354-4009-b6d5-40f41effcd74'), Delayed('analyze-50f5aa34-d9c5-4f7e-8650-d8d2d341f14a'), Delayed('analyze-51c89e06-d652-4da7-b575-3140af9dc8db'), Delayed('analyze-2e4b9fdf-9dc6-463c-9e0c-feeed011546e'), Delayed('analyze-14aeaa61-b5bd-4af6-b13f-d56da1b4a4a7'), Delayed('analyze-31f985e7-d105-4e9d-b59b-6ebf503aacd2'), Delayed('analyze-bd84c932-04d3-4e3d-8e4a-be3d8dd3398b'), Delayed('analyze-63052f14-c8c3-488c-b0aa-65b8a9ea9c52'), Delayed('analyze-47fd45ee-a97c-4f37-a30a-79de4ae529c6'), Delayed('analyze-d9bf5657-d58a-4e32-8fec-6554e4da22de'), Delayed('analyze-27455b47-7801-462b-b3c4-395769593394'), Delayed('analyze-abccb1db-8a7f-437c-a30e-e75961a76186'), Delayed('analyze-7eab1e61-4640-464d-895a-58053fbac858'), Delayed('analyze-7f796725-257e-47e9-8949-0587ea7e73a0'), Delayed('analyze-a8ed3336-6a68-46c0-adf7-dcc8b97958b3'), Delayed('analyze-4092a6b4-af6a-42c9-8c14-c0e4272f2f6d'), Delayed('analyze-82000263-b4c6-4d02-bc02-b3d4c8383966'), Delayed('analyze-64023347-024c-483f-8406-87a53a365308'), Delayed('analyze-bfe061cc-15d2-4af7-8287-6844a445372f'), Delayed('analyze-960c8324-9364-4810-8d91-3a11eb9b47f0'), Delayed('analyze-681d973b-aed3-4882-b820-26b1b8c7deab'), Delayed('analyze-3dd2e16e-7be0-4c4a-82da-a1eb67d5e154'), Delayed('analyze-1640e23f-13a1-4f2e-a9dc-1d89d82e3ef5'), Delayed('analyze-a9c0399b-a3eb-4766-a297-c1540469b8c3'), Delayed('analyze-44267eb2-8bb4-4e88-b5eb-7d56ed9ccec4'), Delayed('analyze-893dd82e-f2f7-4e83-90a0-85b04f1e8b50'), Delayed('analyze-b4c9415e-4863-4510-87fc-24a8a46062ac'), Delayed('analyze-7f09d138-fc86-4bbd-86f2-cf0e72221845'), Delayed('analyze-82d17097-bd1e-46c5-b549-a6abd80efb24'), Delayed('analyze-6fa6b0c4-7d7c-43ab-b830-8569ba518478'), Delayed('analyze-d5924b6b-5346-41c2-8e9b-0d2d2585604a'), Delayed('analyze-d6ad3213-2feb-4978-8e13-1c6c32f22bbf'), Delayed('analyze-44fdfcce-9ffb-47be-9085-f075997a7b44'), Delayed('analyze-fcbb1a26-1f58-4ee4-8568-d35b54d62690'), Delayed('analyze-97e8da63-df43-4831-b8ed-d67af4d498c7'), Delayed('analyze-1125467c-eb2e-4fb0-9c32-936367f31117'), Delayed('analyze-29f00ba9-69be-473a-96ed-201aca00f10f'), Delayed('analyze-77bb4170-2039-4a5a-a9ba-3f1035a1ee77'), Delayed('analyze-4b93b905-0549-47cf-8660-8253f7c96ea6'), Delayed('analyze-807bd46d-5d39-44f3-984a-a7f697059929'), Delayed('analyze-4568f012-9aaf-4394-b798-baa2d5bbd614'), Delayed('analyze-3e2c1c96-4c51-4da6-b1c9-ef914dba3858'), Delayed('analyze-b5328be5-1acd-4907-93f3-bade648c8dc8'), Delayed('analyze-d3e454df-7d31-4949-97f7-1b6beb22074a'), Delayed('analyze-02c3e01b-2aa2-4536-89f0-27570a4bee1c'), Delayed('analyze-70597adf-aa9d-4bb9-8a5b-afaa59da39f3'), Delayed('analyze-c45f9bcc-9fdb-4501-a5b0-b4fd9e753cad'), Delayed('analyze-e52e98f0-8ad3-47cf-9f21-842dcec8bae0'), Delayed('analyze-f1777fea-9431-42f2-a475-583ed25d9e82'), Delayed('analyze-3ff45ce2-47d3-40fe-8c09-087cc3f50650'), Delayed('analyze-a4ff7eaa-c69b-436d-883a-bdce18cb7cf3'), Delayed('analyze-554b07c8-c89b-4fdf-95cb-72470cc14208'), Delayed('analyze-cf0b4b38-c7c2-4ddc-a0ce-d6f57477c8ca'), Delayed('analyze-e14a575c-f78d-4919-97bc-680cf1ee8800'), Delayed('analyze-59029252-9442-4b6b-b344-ac5dfbc4f6e0'), Delayed('analyze-7bfe5ff7-11f2-4237-8a7f-4a6c5656d317'), Delayed('analyze-700b071a-e12b-4a78-adbc-02d3a01001f6'), Delayed('analyze-d569ae27-98c4-40dd-b190-2ec52cf2e402'), Delayed('analyze-aa306222-0fe4-481d-8ba2-5ab30aeb7048'), Delayed('analyze-063fff7f-4a98-460a-915f-63d27ab2cc65'), Delayed('analyze-0ace707a-546e-42bf-af9d-0301bda5e829'), Delayed('analyze-5ba0258a-5e16-4562-85fb-9475743abfd7'), Delayed('analyze-bdddc81c-d9e1-4aad-9cb5-7b28710b7646'), Delayed('analyze-df32c9be-f818-442c-859d-7442c556d378'), Delayed('analyze-4e68be25-4e25-4c3c-8814-9aad5c00e59a'), Delayed('analyze-83122e68-0743-4e45-bb9a-62f170a32fe5'), Delayed('analyze-65ba6e4b-0060-4160-bc7c-ec68feb99a3a'), Delayed('analyze-be00d8d3-3e28-46f7-9c80-2734cadeca0c'), Delayed('analyze-9ec37c4c-00f7-4d86-b6ac-5fe1a768f21b'), Delayed('analyze-58c23d86-6a87-4530-a8f4-f3213a4ec5a5'), Delayed('analyze-a5f10e38-9d7a-45be-a638-cd456516723f'), Delayed('analyze-f6323b60-3334-45b0-988e-2f3a44d67628'), Delayed('analyze-12c87466-f779-43d2-a300-1deffbeaa591')]\n"
     ]
    }
   ],
   "source": [
    "lazy_results = []\n",
    "middle_z = data.shape[2] // 2\n",
    "middle_t = data.shape[0] // 2\n",
    "range_t = 5\n",
    "range_z = 5\n",
    "range_c = 1\n",
    "for t in range(middle_t - range_t, middle_t + range_t):\n",
    "    for z in range(middle_z - range_z, middle_z + range_z):\n",
    "        for c in range(range_c):\n",
    "            lazy_result = dask.delayed(analyze)(t, c, z)\n",
    "            lazy_results.append(lazy_result)\n",
    "print(lazy_results)"
   ]
  },
  {
   "cell_type": "markdown",
   "metadata": {},
   "source": [
    "### Run in parallel"
   ]
  },
  {
   "cell_type": "markdown",
   "metadata": {},
   "source": [
    "The lazy_results list contains information about ``number_t*number_z*number_c`` calls to our function ``analyze`` that have not yet been run. We call ``dask.compute`` when we want the results.\n",
    "The binary data is loaded from the S3 store during the ``compute`` phase and the analysis is performed."
   ]
  },
  {
   "cell_type": "code",
   "execution_count": 8,
   "metadata": {},
   "outputs": [
    {
     "name": "stdout",
     "output_type": "stream",
     "text": [
      "CPU times: user 1min 32s, sys: 2.82 s, total: 1min 35s\n",
      "Wall time: 1min 35s\n"
     ]
    }
   ],
   "source": [
    "%time results = dask.compute(*lazy_results)"
   ]
  },
  {
   "cell_type": "markdown",
   "metadata": {},
   "source": [
    "### Display the results\n",
    "\n",
    "Display the segmented planes. Use the slider to select the plane."
   ]
  },
  {
   "cell_type": "code",
   "execution_count": 9,
   "metadata": {},
   "outputs": [
    {
     "data": {
      "application/vnd.jupyter.widget-view+json": {
       "model_id": "7f91baaff87c42038db4d5a64f0781d0",
       "version_major": 2,
       "version_minor": 0
      },
      "text/plain": [
       "interactive(children=(IntSlider(value=0, continuous_update=False, description='Select Plane', max=99), Output(…"
      ]
     },
     "metadata": {},
     "output_type": "display_data"
    },
    {
     "data": {
      "text/plain": [
       "<function __main__.display(i=0)>"
      ]
     },
     "execution_count": 9,
     "metadata": {},
     "output_type": "execute_result"
    }
   ],
   "source": [
    "from ipywidgets import *\n",
    "\n",
    "def display(i=0):\n",
    "    r, name = results[i]\n",
    "    fig = plt.figure(figsize=(10, 10))\n",
    "    plt.subplot(121)\n",
    "    plt.imshow(r)\n",
    "    plt.title(name)\n",
    "    fig.canvas.flush_events()\n",
    "\n",
    "interact(display, i= widgets.IntSlider(value=0, min=0, max=len(results)-1, step=1, description=\"Select Plane\", continuous_update=False))\n"
   ]
  },
  {
   "cell_type": "markdown",
   "metadata": {},
   "source": [
    "![Overview](./images/idr0044_segmented.png)"
   ]
  },
  {
   "cell_type": "markdown",
   "metadata": {
    "collapsed": true,
    "jupyter": {
     "outputs_hidden": true
    }
   },
   "source": [
    "### License (BSD 2-Clause)\n",
    "Copyright (C) 2020-20224 University of Dundee. All Rights Reserved.\n",
    "\n",
    "Redistribution and use in source and binary forms, with or without modification, are permitted provided that the following conditions are met:\n",
    "\n",
    "Redistributions of source code must retain the above copyright notice, this list of conditions and the following disclaimer.\n",
    "Redistributions in binary form must reproduce the above copyright notice, this list of conditions and the following disclaimer in the documentation and/or other materials provided with the distribution.\n",
    "THIS SOFTWARE IS PROVIDED BY THE COPYRIGHT HOLDERS AND CONTRIBUTORS \"AS IS\" AND ANY EXPRESS OR IMPLIED WARRANTIES, INCLUDING, BUT NOT LIMITED TO, THE IMPLIED WARRANTIES OF MERCHANTABILITY AND FITNESS FOR A PARTICULAR PURPOSE ARE DISCLAIMED. IN NO EVENT SHALL THE COPYRIGHT OWNER OR CONTRIBUTORS BE LIABLE FOR ANY DIRECT, INDIRECT, INCIDENTAL, SPECIAL, EXEMPLARY, OR CONSEQUENTIAL DAMAGES (INCLUDING, BUT NOT LIMITED TO, PROCUREMENT OF SUBSTITUTE GOODS OR SERVICES; LOSS OF USE, DATA, OR PROFITS; OR BUSINESS INTERRUPTION) HOWEVER CAUSED AND ON ANY THEORY OF LIABILITY, WHETHER IN CONTRACT, STRICT LIABILITY, OR TORT (INCLUDING NEGLIGENCE OR OTHERWISE) ARISING IN ANY WAY OUT OF THE USE OF THIS SOFTWARE, EVEN IF ADVISED OF THE POSSIBILITY OF SUCH DAMAGE."
   ]
  }
 ],
 "metadata": {
  "kernelspec": {
   "display_name": "Python 3 (ipykernel)",
   "language": "python",
   "name": "python3"
  },
  "language_info": {
   "codemirror_mode": {
    "name": "ipython",
    "version": 3
   },
   "file_extension": ".py",
   "mimetype": "text/x-python",
   "name": "python",
   "nbconvert_exporter": "python",
   "pygments_lexer": "ipython3",
   "version": "3.9.18"
  }
 },
 "nbformat": 4,
 "nbformat_minor": 4
}
