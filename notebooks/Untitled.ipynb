{
 "cells": [
  {
   "cell_type": "code",
   "execution_count": 1,
   "id": "d2f82aac",
   "metadata": {},
   "outputs": [],
   "source": [
    "from IPython import get_ipython\n",
    "from ipywidgets import *\n",
    "\n",
    "import matplotlib.pyplot as plt\n",
    "\n",
    "import zarr\n",
    "import s3fs\n",
    "import dask.array as da\n",
    "import requests"
   ]
  },
  {
   "cell_type": "code",
   "execution_count": 2,
   "id": "13cdd659",
   "metadata": {},
   "outputs": [],
   "source": [
    "ENDPOINT_URL = \"https://cellpainting-gallery.s3.amazonaws.com/\"\n",
    "ROOT = \"cpg0004-lincs/broad/images/2016_04_01_a549_48hr_batch1/images_zarr/SQ00015098__2016-06-08T18_43_42-Measurement1.ome.zarr\""
   ]
  },
  {
   "cell_type": "markdown",
   "id": "88f47e2a",
   "metadata": {},
   "source": [
    "## Read information about the plate "
   ]
  },
  {
   "cell_type": "code",
   "execution_count": 3,
   "id": "3cf336d0",
   "metadata": {},
   "outputs": [
    {
     "name": "stdout",
     "output_type": "stream",
     "text": [
      "{'bioformats2raw.layout': 3, 'plate': {'columns': [{'name': '1'}, {'name': '2'}, {'name': '3'}, {'name': '4'}, {'name': '5'}, {'name': '6'}, {'name': '7'}, {'name': '8'}, {'name': '9'}, {'name': '10'}, {'name': '11'}, {'name': '12'}, {'name': '13'}, {'name': '14'}, {'name': '15'}, {'name': '16'}, {'name': '17'}, {'name': '18'}, {'name': '19'}, {'name': '20'}, {'name': '21'}, {'name': '22'}, {'name': '23'}, {'name': '24'}], 'name': 'SQ00015098', 'wells': [{'path': 'A/1', 'rowIndex': 0, 'columnIndex': 0}, {'path': 'A/2', 'rowIndex': 0, 'columnIndex': 1}, {'path': 'A/3', 'rowIndex': 0, 'columnIndex': 2}, {'path': 'A/4', 'rowIndex': 0, 'columnIndex': 3}, {'path': 'A/5', 'rowIndex': 0, 'columnIndex': 4}, {'path': 'A/6', 'rowIndex': 0, 'columnIndex': 5}, {'path': 'A/7', 'rowIndex': 0, 'columnIndex': 6}, {'path': 'A/8', 'rowIndex': 0, 'columnIndex': 7}, {'path': 'A/9', 'rowIndex': 0, 'columnIndex': 8}, {'path': 'A/10', 'rowIndex': 0, 'columnIndex': 9}, {'path': 'A/11', 'rowIndex': 0, 'columnIndex': 10}, {'path': 'A/12', 'rowIndex': 0, 'columnIndex': 11}, {'path': 'A/13', 'rowIndex': 0, 'columnIndex': 12}, {'path': 'A/14', 'rowIndex': 0, 'columnIndex': 13}, {'path': 'A/15', 'rowIndex': 0, 'columnIndex': 14}, {'path': 'A/16', 'rowIndex': 0, 'columnIndex': 15}, {'path': 'A/17', 'rowIndex': 0, 'columnIndex': 16}, {'path': 'A/18', 'rowIndex': 0, 'columnIndex': 17}, {'path': 'A/19', 'rowIndex': 0, 'columnIndex': 18}, {'path': 'A/20', 'rowIndex': 0, 'columnIndex': 19}, {'path': 'A/21', 'rowIndex': 0, 'columnIndex': 20}, {'path': 'A/22', 'rowIndex': 0, 'columnIndex': 21}, {'path': 'A/23', 'rowIndex': 0, 'columnIndex': 22}, {'path': 'A/24', 'rowIndex': 0, 'columnIndex': 23}, {'path': 'B/1', 'rowIndex': 1, 'columnIndex': 0}, {'path': 'B/2', 'rowIndex': 1, 'columnIndex': 1}, {'path': 'B/3', 'rowIndex': 1, 'columnIndex': 2}, {'path': 'B/4', 'rowIndex': 1, 'columnIndex': 3}, {'path': 'B/5', 'rowIndex': 1, 'columnIndex': 4}, {'path': 'B/6', 'rowIndex': 1, 'columnIndex': 5}, {'path': 'B/7', 'rowIndex': 1, 'columnIndex': 6}, {'path': 'B/8', 'rowIndex': 1, 'columnIndex': 7}, {'path': 'B/9', 'rowIndex': 1, 'columnIndex': 8}, {'path': 'B/10', 'rowIndex': 1, 'columnIndex': 9}, {'path': 'B/11', 'rowIndex': 1, 'columnIndex': 10}, {'path': 'B/12', 'rowIndex': 1, 'columnIndex': 11}, {'path': 'B/13', 'rowIndex': 1, 'columnIndex': 12}, {'path': 'B/14', 'rowIndex': 1, 'columnIndex': 13}, {'path': 'B/15', 'rowIndex': 1, 'columnIndex': 14}, {'path': 'B/16', 'rowIndex': 1, 'columnIndex': 15}, {'path': 'B/17', 'rowIndex': 1, 'columnIndex': 16}, {'path': 'B/18', 'rowIndex': 1, 'columnIndex': 17}, {'path': 'B/19', 'rowIndex': 1, 'columnIndex': 18}, {'path': 'B/20', 'rowIndex': 1, 'columnIndex': 19}, {'path': 'B/21', 'rowIndex': 1, 'columnIndex': 20}, {'path': 'B/22', 'rowIndex': 1, 'columnIndex': 21}, {'path': 'B/23', 'rowIndex': 1, 'columnIndex': 22}, {'path': 'B/24', 'rowIndex': 1, 'columnIndex': 23}, {'path': 'C/1', 'rowIndex': 2, 'columnIndex': 0}, {'path': 'C/2', 'rowIndex': 2, 'columnIndex': 1}, {'path': 'C/3', 'rowIndex': 2, 'columnIndex': 2}, {'path': 'C/4', 'rowIndex': 2, 'columnIndex': 3}, {'path': 'C/5', 'rowIndex': 2, 'columnIndex': 4}, {'path': 'C/6', 'rowIndex': 2, 'columnIndex': 5}, {'path': 'C/7', 'rowIndex': 2, 'columnIndex': 6}, {'path': 'C/8', 'rowIndex': 2, 'columnIndex': 7}, {'path': 'C/9', 'rowIndex': 2, 'columnIndex': 8}, {'path': 'C/10', 'rowIndex': 2, 'columnIndex': 9}, {'path': 'C/11', 'rowIndex': 2, 'columnIndex': 10}, {'path': 'C/12', 'rowIndex': 2, 'columnIndex': 11}, {'path': 'C/13', 'rowIndex': 2, 'columnIndex': 12}, {'path': 'C/14', 'rowIndex': 2, 'columnIndex': 13}, {'path': 'C/15', 'rowIndex': 2, 'columnIndex': 14}, {'path': 'C/16', 'rowIndex': 2, 'columnIndex': 15}, {'path': 'C/17', 'rowIndex': 2, 'columnIndex': 16}, {'path': 'C/18', 'rowIndex': 2, 'columnIndex': 17}, {'path': 'C/19', 'rowIndex': 2, 'columnIndex': 18}, {'path': 'C/20', 'rowIndex': 2, 'columnIndex': 19}, {'path': 'C/21', 'rowIndex': 2, 'columnIndex': 20}, {'path': 'C/22', 'rowIndex': 2, 'columnIndex': 21}, {'path': 'C/23', 'rowIndex': 2, 'columnIndex': 22}, {'path': 'C/24', 'rowIndex': 2, 'columnIndex': 23}, {'path': 'D/1', 'rowIndex': 3, 'columnIndex': 0}, {'path': 'D/2', 'rowIndex': 3, 'columnIndex': 1}, {'path': 'D/3', 'rowIndex': 3, 'columnIndex': 2}, {'path': 'D/4', 'rowIndex': 3, 'columnIndex': 3}, {'path': 'D/5', 'rowIndex': 3, 'columnIndex': 4}, {'path': 'D/6', 'rowIndex': 3, 'columnIndex': 5}, {'path': 'D/7', 'rowIndex': 3, 'columnIndex': 6}, {'path': 'D/8', 'rowIndex': 3, 'columnIndex': 7}, {'path': 'D/9', 'rowIndex': 3, 'columnIndex': 8}, {'path': 'D/10', 'rowIndex': 3, 'columnIndex': 9}, {'path': 'D/11', 'rowIndex': 3, 'columnIndex': 10}, {'path': 'D/12', 'rowIndex': 3, 'columnIndex': 11}, {'path': 'D/13', 'rowIndex': 3, 'columnIndex': 12}, {'path': 'D/14', 'rowIndex': 3, 'columnIndex': 13}, {'path': 'D/15', 'rowIndex': 3, 'columnIndex': 14}, {'path': 'D/16', 'rowIndex': 3, 'columnIndex': 15}, {'path': 'D/17', 'rowIndex': 3, 'columnIndex': 16}, {'path': 'D/18', 'rowIndex': 3, 'columnIndex': 17}, {'path': 'D/19', 'rowIndex': 3, 'columnIndex': 18}, {'path': 'D/20', 'rowIndex': 3, 'columnIndex': 19}, {'path': 'D/21', 'rowIndex': 3, 'columnIndex': 20}, {'path': 'D/22', 'rowIndex': 3, 'columnIndex': 21}, {'path': 'D/23', 'rowIndex': 3, 'columnIndex': 22}, {'path': 'D/24', 'rowIndex': 3, 'columnIndex': 23}, {'path': 'E/1', 'rowIndex': 4, 'columnIndex': 0}, {'path': 'E/2', 'rowIndex': 4, 'columnIndex': 1}, {'path': 'E/3', 'rowIndex': 4, 'columnIndex': 2}, {'path': 'E/4', 'rowIndex': 4, 'columnIndex': 3}, {'path': 'E/5', 'rowIndex': 4, 'columnIndex': 4}, {'path': 'E/6', 'rowIndex': 4, 'columnIndex': 5}, {'path': 'E/7', 'rowIndex': 4, 'columnIndex': 6}, {'path': 'E/8', 'rowIndex': 4, 'columnIndex': 7}, {'path': 'E/9', 'rowIndex': 4, 'columnIndex': 8}, {'path': 'E/10', 'rowIndex': 4, 'columnIndex': 9}, {'path': 'E/11', 'rowIndex': 4, 'columnIndex': 10}, {'path': 'E/12', 'rowIndex': 4, 'columnIndex': 11}, {'path': 'E/13', 'rowIndex': 4, 'columnIndex': 12}, {'path': 'E/14', 'rowIndex': 4, 'columnIndex': 13}, {'path': 'E/15', 'rowIndex': 4, 'columnIndex': 14}, {'path': 'E/16', 'rowIndex': 4, 'columnIndex': 15}, {'path': 'E/17', 'rowIndex': 4, 'columnIndex': 16}, {'path': 'E/18', 'rowIndex': 4, 'columnIndex': 17}, {'path': 'E/19', 'rowIndex': 4, 'columnIndex': 18}, {'path': 'E/20', 'rowIndex': 4, 'columnIndex': 19}, {'path': 'E/21', 'rowIndex': 4, 'columnIndex': 20}, {'path': 'E/22', 'rowIndex': 4, 'columnIndex': 21}, {'path': 'E/23', 'rowIndex': 4, 'columnIndex': 22}, {'path': 'E/24', 'rowIndex': 4, 'columnIndex': 23}, {'path': 'F/1', 'rowIndex': 5, 'columnIndex': 0}, {'path': 'F/2', 'rowIndex': 5, 'columnIndex': 1}, {'path': 'F/3', 'rowIndex': 5, 'columnIndex': 2}, {'path': 'F/4', 'rowIndex': 5, 'columnIndex': 3}, {'path': 'F/5', 'rowIndex': 5, 'columnIndex': 4}, {'path': 'F/6', 'rowIndex': 5, 'columnIndex': 5}, {'path': 'F/7', 'rowIndex': 5, 'columnIndex': 6}, {'path': 'F/8', 'rowIndex': 5, 'columnIndex': 7}, {'path': 'F/9', 'rowIndex': 5, 'columnIndex': 8}, {'path': 'F/10', 'rowIndex': 5, 'columnIndex': 9}, {'path': 'F/11', 'rowIndex': 5, 'columnIndex': 10}, {'path': 'F/12', 'rowIndex': 5, 'columnIndex': 11}, {'path': 'F/13', 'rowIndex': 5, 'columnIndex': 12}, {'path': 'F/14', 'rowIndex': 5, 'columnIndex': 13}, {'path': 'F/15', 'rowIndex': 5, 'columnIndex': 14}, {'path': 'F/16', 'rowIndex': 5, 'columnIndex': 15}, {'path': 'F/17', 'rowIndex': 5, 'columnIndex': 16}, {'path': 'F/18', 'rowIndex': 5, 'columnIndex': 17}, {'path': 'F/19', 'rowIndex': 5, 'columnIndex': 18}, {'path': 'F/20', 'rowIndex': 5, 'columnIndex': 19}, {'path': 'F/21', 'rowIndex': 5, 'columnIndex': 20}, {'path': 'F/22', 'rowIndex': 5, 'columnIndex': 21}, {'path': 'F/23', 'rowIndex': 5, 'columnIndex': 22}, {'path': 'F/24', 'rowIndex': 5, 'columnIndex': 23}, {'path': 'G/1', 'rowIndex': 6, 'columnIndex': 0}, {'path': 'G/2', 'rowIndex': 6, 'columnIndex': 1}, {'path': 'G/3', 'rowIndex': 6, 'columnIndex': 2}, {'path': 'G/4', 'rowIndex': 6, 'columnIndex': 3}, {'path': 'G/5', 'rowIndex': 6, 'columnIndex': 4}, {'path': 'G/6', 'rowIndex': 6, 'columnIndex': 5}, {'path': 'G/7', 'rowIndex': 6, 'columnIndex': 6}, {'path': 'G/8', 'rowIndex': 6, 'columnIndex': 7}, {'path': 'G/9', 'rowIndex': 6, 'columnIndex': 8}, {'path': 'G/10', 'rowIndex': 6, 'columnIndex': 9}, {'path': 'G/11', 'rowIndex': 6, 'columnIndex': 10}, {'path': 'G/12', 'rowIndex': 6, 'columnIndex': 11}, {'path': 'G/13', 'rowIndex': 6, 'columnIndex': 12}, {'path': 'G/14', 'rowIndex': 6, 'columnIndex': 13}, {'path': 'G/15', 'rowIndex': 6, 'columnIndex': 14}, {'path': 'G/16', 'rowIndex': 6, 'columnIndex': 15}, {'path': 'G/17', 'rowIndex': 6, 'columnIndex': 16}, {'path': 'G/18', 'rowIndex': 6, 'columnIndex': 17}, {'path': 'G/19', 'rowIndex': 6, 'columnIndex': 18}, {'path': 'G/20', 'rowIndex': 6, 'columnIndex': 19}, {'path': 'G/21', 'rowIndex': 6, 'columnIndex': 20}, {'path': 'G/22', 'rowIndex': 6, 'columnIndex': 21}, {'path': 'G/23', 'rowIndex': 6, 'columnIndex': 22}, {'path': 'G/24', 'rowIndex': 6, 'columnIndex': 23}, {'path': 'H/1', 'rowIndex': 7, 'columnIndex': 0}, {'path': 'H/2', 'rowIndex': 7, 'columnIndex': 1}, {'path': 'H/3', 'rowIndex': 7, 'columnIndex': 2}, {'path': 'H/4', 'rowIndex': 7, 'columnIndex': 3}, {'path': 'H/5', 'rowIndex': 7, 'columnIndex': 4}, {'path': 'H/6', 'rowIndex': 7, 'columnIndex': 5}, {'path': 'H/7', 'rowIndex': 7, 'columnIndex': 6}, {'path': 'H/8', 'rowIndex': 7, 'columnIndex': 7}, {'path': 'H/9', 'rowIndex': 7, 'columnIndex': 8}, {'path': 'H/10', 'rowIndex': 7, 'columnIndex': 9}, {'path': 'H/11', 'rowIndex': 7, 'columnIndex': 10}, {'path': 'H/12', 'rowIndex': 7, 'columnIndex': 11}, {'path': 'H/13', 'rowIndex': 7, 'columnIndex': 12}, {'path': 'H/14', 'rowIndex': 7, 'columnIndex': 13}, {'path': 'H/15', 'rowIndex': 7, 'columnIndex': 14}, {'path': 'H/16', 'rowIndex': 7, 'columnIndex': 15}, {'path': 'H/17', 'rowIndex': 7, 'columnIndex': 16}, {'path': 'H/18', 'rowIndex': 7, 'columnIndex': 17}, {'path': 'H/19', 'rowIndex': 7, 'columnIndex': 18}, {'path': 'H/20', 'rowIndex': 7, 'columnIndex': 19}, {'path': 'H/21', 'rowIndex': 7, 'columnIndex': 20}, {'path': 'H/22', 'rowIndex': 7, 'columnIndex': 21}, {'path': 'H/23', 'rowIndex': 7, 'columnIndex': 22}, {'path': 'H/24', 'rowIndex': 7, 'columnIndex': 23}, {'path': 'I/1', 'rowIndex': 8, 'columnIndex': 0}, {'path': 'I/2', 'rowIndex': 8, 'columnIndex': 1}, {'path': 'I/3', 'rowIndex': 8, 'columnIndex': 2}, {'path': 'I/4', 'rowIndex': 8, 'columnIndex': 3}, {'path': 'I/5', 'rowIndex': 8, 'columnIndex': 4}, {'path': 'I/6', 'rowIndex': 8, 'columnIndex': 5}, {'path': 'I/7', 'rowIndex': 8, 'columnIndex': 6}, {'path': 'I/8', 'rowIndex': 8, 'columnIndex': 7}, {'path': 'I/9', 'rowIndex': 8, 'columnIndex': 8}, {'path': 'I/10', 'rowIndex': 8, 'columnIndex': 9}, {'path': 'I/11', 'rowIndex': 8, 'columnIndex': 10}, {'path': 'I/12', 'rowIndex': 8, 'columnIndex': 11}, {'path': 'I/13', 'rowIndex': 8, 'columnIndex': 12}, {'path': 'I/14', 'rowIndex': 8, 'columnIndex': 13}, {'path': 'I/15', 'rowIndex': 8, 'columnIndex': 14}, {'path': 'I/16', 'rowIndex': 8, 'columnIndex': 15}, {'path': 'I/17', 'rowIndex': 8, 'columnIndex': 16}, {'path': 'I/18', 'rowIndex': 8, 'columnIndex': 17}, {'path': 'I/19', 'rowIndex': 8, 'columnIndex': 18}, {'path': 'I/20', 'rowIndex': 8, 'columnIndex': 19}, {'path': 'I/21', 'rowIndex': 8, 'columnIndex': 20}, {'path': 'I/22', 'rowIndex': 8, 'columnIndex': 21}, {'path': 'I/23', 'rowIndex': 8, 'columnIndex': 22}, {'path': 'I/24', 'rowIndex': 8, 'columnIndex': 23}, {'path': 'J/1', 'rowIndex': 9, 'columnIndex': 0}, {'path': 'J/2', 'rowIndex': 9, 'columnIndex': 1}, {'path': 'J/3', 'rowIndex': 9, 'columnIndex': 2}, {'path': 'J/4', 'rowIndex': 9, 'columnIndex': 3}, {'path': 'J/5', 'rowIndex': 9, 'columnIndex': 4}, {'path': 'J/6', 'rowIndex': 9, 'columnIndex': 5}, {'path': 'J/7', 'rowIndex': 9, 'columnIndex': 6}, {'path': 'J/8', 'rowIndex': 9, 'columnIndex': 7}, {'path': 'J/9', 'rowIndex': 9, 'columnIndex': 8}, {'path': 'J/10', 'rowIndex': 9, 'columnIndex': 9}, {'path': 'J/11', 'rowIndex': 9, 'columnIndex': 10}, {'path': 'J/12', 'rowIndex': 9, 'columnIndex': 11}, {'path': 'J/13', 'rowIndex': 9, 'columnIndex': 12}, {'path': 'J/14', 'rowIndex': 9, 'columnIndex': 13}, {'path': 'J/15', 'rowIndex': 9, 'columnIndex': 14}, {'path': 'J/16', 'rowIndex': 9, 'columnIndex': 15}, {'path': 'J/17', 'rowIndex': 9, 'columnIndex': 16}, {'path': 'J/18', 'rowIndex': 9, 'columnIndex': 17}, {'path': 'J/19', 'rowIndex': 9, 'columnIndex': 18}, {'path': 'J/20', 'rowIndex': 9, 'columnIndex': 19}, {'path': 'J/21', 'rowIndex': 9, 'columnIndex': 20}, {'path': 'J/22', 'rowIndex': 9, 'columnIndex': 21}, {'path': 'J/23', 'rowIndex': 9, 'columnIndex': 22}, {'path': 'J/24', 'rowIndex': 9, 'columnIndex': 23}, {'path': 'K/1', 'rowIndex': 10, 'columnIndex': 0}, {'path': 'K/2', 'rowIndex': 10, 'columnIndex': 1}, {'path': 'K/3', 'rowIndex': 10, 'columnIndex': 2}, {'path': 'K/4', 'rowIndex': 10, 'columnIndex': 3}, {'path': 'K/5', 'rowIndex': 10, 'columnIndex': 4}, {'path': 'K/6', 'rowIndex': 10, 'columnIndex': 5}, {'path': 'K/7', 'rowIndex': 10, 'columnIndex': 6}, {'path': 'K/8', 'rowIndex': 10, 'columnIndex': 7}, {'path': 'K/9', 'rowIndex': 10, 'columnIndex': 8}, {'path': 'K/10', 'rowIndex': 10, 'columnIndex': 9}, {'path': 'K/11', 'rowIndex': 10, 'columnIndex': 10}, {'path': 'K/12', 'rowIndex': 10, 'columnIndex': 11}, {'path': 'K/13', 'rowIndex': 10, 'columnIndex': 12}, {'path': 'K/14', 'rowIndex': 10, 'columnIndex': 13}, {'path': 'K/15', 'rowIndex': 10, 'columnIndex': 14}, {'path': 'K/16', 'rowIndex': 10, 'columnIndex': 15}, {'path': 'K/17', 'rowIndex': 10, 'columnIndex': 16}, {'path': 'K/18', 'rowIndex': 10, 'columnIndex': 17}, {'path': 'K/19', 'rowIndex': 10, 'columnIndex': 18}, {'path': 'K/20', 'rowIndex': 10, 'columnIndex': 19}, {'path': 'K/21', 'rowIndex': 10, 'columnIndex': 20}, {'path': 'K/22', 'rowIndex': 10, 'columnIndex': 21}, {'path': 'K/23', 'rowIndex': 10, 'columnIndex': 22}, {'path': 'K/24', 'rowIndex': 10, 'columnIndex': 23}, {'path': 'L/1', 'rowIndex': 11, 'columnIndex': 0}, {'path': 'L/2', 'rowIndex': 11, 'columnIndex': 1}, {'path': 'L/3', 'rowIndex': 11, 'columnIndex': 2}, {'path': 'L/4', 'rowIndex': 11, 'columnIndex': 3}, {'path': 'L/5', 'rowIndex': 11, 'columnIndex': 4}, {'path': 'L/6', 'rowIndex': 11, 'columnIndex': 5}, {'path': 'L/7', 'rowIndex': 11, 'columnIndex': 6}, {'path': 'L/8', 'rowIndex': 11, 'columnIndex': 7}, {'path': 'L/9', 'rowIndex': 11, 'columnIndex': 8}, {'path': 'L/10', 'rowIndex': 11, 'columnIndex': 9}, {'path': 'L/11', 'rowIndex': 11, 'columnIndex': 10}, {'path': 'L/12', 'rowIndex': 11, 'columnIndex': 11}, {'path': 'L/13', 'rowIndex': 11, 'columnIndex': 12}, {'path': 'L/14', 'rowIndex': 11, 'columnIndex': 13}, {'path': 'L/15', 'rowIndex': 11, 'columnIndex': 14}, {'path': 'L/16', 'rowIndex': 11, 'columnIndex': 15}, {'path': 'L/17', 'rowIndex': 11, 'columnIndex': 16}, {'path': 'L/18', 'rowIndex': 11, 'columnIndex': 17}, {'path': 'L/19', 'rowIndex': 11, 'columnIndex': 18}, {'path': 'L/20', 'rowIndex': 11, 'columnIndex': 19}, {'path': 'L/21', 'rowIndex': 11, 'columnIndex': 20}, {'path': 'L/22', 'rowIndex': 11, 'columnIndex': 21}, {'path': 'L/23', 'rowIndex': 11, 'columnIndex': 22}, {'path': 'L/24', 'rowIndex': 11, 'columnIndex': 23}, {'path': 'M/1', 'rowIndex': 12, 'columnIndex': 0}, {'path': 'M/2', 'rowIndex': 12, 'columnIndex': 1}, {'path': 'M/3', 'rowIndex': 12, 'columnIndex': 2}, {'path': 'M/4', 'rowIndex': 12, 'columnIndex': 3}, {'path': 'M/5', 'rowIndex': 12, 'columnIndex': 4}, {'path': 'M/6', 'rowIndex': 12, 'columnIndex': 5}, {'path': 'M/7', 'rowIndex': 12, 'columnIndex': 6}, {'path': 'M/8', 'rowIndex': 12, 'columnIndex': 7}, {'path': 'M/9', 'rowIndex': 12, 'columnIndex': 8}, {'path': 'M/10', 'rowIndex': 12, 'columnIndex': 9}, {'path': 'M/11', 'rowIndex': 12, 'columnIndex': 10}, {'path': 'M/12', 'rowIndex': 12, 'columnIndex': 11}, {'path': 'M/13', 'rowIndex': 12, 'columnIndex': 12}, {'path': 'M/14', 'rowIndex': 12, 'columnIndex': 13}, {'path': 'M/15', 'rowIndex': 12, 'columnIndex': 14}, {'path': 'M/16', 'rowIndex': 12, 'columnIndex': 15}, {'path': 'M/17', 'rowIndex': 12, 'columnIndex': 16}, {'path': 'M/18', 'rowIndex': 12, 'columnIndex': 17}, {'path': 'M/19', 'rowIndex': 12, 'columnIndex': 18}, {'path': 'M/20', 'rowIndex': 12, 'columnIndex': 19}, {'path': 'M/21', 'rowIndex': 12, 'columnIndex': 20}, {'path': 'M/22', 'rowIndex': 12, 'columnIndex': 21}, {'path': 'M/23', 'rowIndex': 12, 'columnIndex': 22}, {'path': 'M/24', 'rowIndex': 12, 'columnIndex': 23}, {'path': 'N/1', 'rowIndex': 13, 'columnIndex': 0}, {'path': 'N/2', 'rowIndex': 13, 'columnIndex': 1}, {'path': 'N/3', 'rowIndex': 13, 'columnIndex': 2}, {'path': 'N/4', 'rowIndex': 13, 'columnIndex': 3}, {'path': 'N/5', 'rowIndex': 13, 'columnIndex': 4}, {'path': 'N/6', 'rowIndex': 13, 'columnIndex': 5}, {'path': 'N/7', 'rowIndex': 13, 'columnIndex': 6}, {'path': 'N/8', 'rowIndex': 13, 'columnIndex': 7}, {'path': 'N/9', 'rowIndex': 13, 'columnIndex': 8}, {'path': 'N/10', 'rowIndex': 13, 'columnIndex': 9}, {'path': 'N/11', 'rowIndex': 13, 'columnIndex': 10}, {'path': 'N/12', 'rowIndex': 13, 'columnIndex': 11}, {'path': 'N/13', 'rowIndex': 13, 'columnIndex': 12}, {'path': 'N/14', 'rowIndex': 13, 'columnIndex': 13}, {'path': 'N/15', 'rowIndex': 13, 'columnIndex': 14}, {'path': 'N/16', 'rowIndex': 13, 'columnIndex': 15}, {'path': 'N/17', 'rowIndex': 13, 'columnIndex': 16}, {'path': 'N/18', 'rowIndex': 13, 'columnIndex': 17}, {'path': 'N/19', 'rowIndex': 13, 'columnIndex': 18}, {'path': 'N/20', 'rowIndex': 13, 'columnIndex': 19}, {'path': 'N/21', 'rowIndex': 13, 'columnIndex': 20}, {'path': 'N/22', 'rowIndex': 13, 'columnIndex': 21}, {'path': 'N/23', 'rowIndex': 13, 'columnIndex': 22}, {'path': 'N/24', 'rowIndex': 13, 'columnIndex': 23}, {'path': 'O/1', 'rowIndex': 14, 'columnIndex': 0}, {'path': 'O/2', 'rowIndex': 14, 'columnIndex': 1}, {'path': 'O/3', 'rowIndex': 14, 'columnIndex': 2}, {'path': 'O/4', 'rowIndex': 14, 'columnIndex': 3}, {'path': 'O/5', 'rowIndex': 14, 'columnIndex': 4}, {'path': 'O/6', 'rowIndex': 14, 'columnIndex': 5}, {'path': 'O/7', 'rowIndex': 14, 'columnIndex': 6}, {'path': 'O/8', 'rowIndex': 14, 'columnIndex': 7}, {'path': 'O/9', 'rowIndex': 14, 'columnIndex': 8}, {'path': 'O/10', 'rowIndex': 14, 'columnIndex': 9}, {'path': 'O/11', 'rowIndex': 14, 'columnIndex': 10}, {'path': 'O/12', 'rowIndex': 14, 'columnIndex': 11}, {'path': 'O/13', 'rowIndex': 14, 'columnIndex': 12}, {'path': 'O/14', 'rowIndex': 14, 'columnIndex': 13}, {'path': 'O/15', 'rowIndex': 14, 'columnIndex': 14}, {'path': 'O/16', 'rowIndex': 14, 'columnIndex': 15}, {'path': 'O/17', 'rowIndex': 14, 'columnIndex': 16}, {'path': 'O/18', 'rowIndex': 14, 'columnIndex': 17}, {'path': 'O/19', 'rowIndex': 14, 'columnIndex': 18}, {'path': 'O/20', 'rowIndex': 14, 'columnIndex': 19}, {'path': 'O/21', 'rowIndex': 14, 'columnIndex': 20}, {'path': 'O/22', 'rowIndex': 14, 'columnIndex': 21}, {'path': 'O/23', 'rowIndex': 14, 'columnIndex': 22}, {'path': 'O/24', 'rowIndex': 14, 'columnIndex': 23}, {'path': 'P/1', 'rowIndex': 15, 'columnIndex': 0}, {'path': 'P/2', 'rowIndex': 15, 'columnIndex': 1}, {'path': 'P/3', 'rowIndex': 15, 'columnIndex': 2}, {'path': 'P/4', 'rowIndex': 15, 'columnIndex': 3}, {'path': 'P/5', 'rowIndex': 15, 'columnIndex': 4}, {'path': 'P/6', 'rowIndex': 15, 'columnIndex': 5}, {'path': 'P/7', 'rowIndex': 15, 'columnIndex': 6}, {'path': 'P/8', 'rowIndex': 15, 'columnIndex': 7}, {'path': 'P/9', 'rowIndex': 15, 'columnIndex': 8}, {'path': 'P/10', 'rowIndex': 15, 'columnIndex': 9}, {'path': 'P/11', 'rowIndex': 15, 'columnIndex': 10}, {'path': 'P/12', 'rowIndex': 15, 'columnIndex': 11}, {'path': 'P/13', 'rowIndex': 15, 'columnIndex': 12}, {'path': 'P/14', 'rowIndex': 15, 'columnIndex': 13}, {'path': 'P/15', 'rowIndex': 15, 'columnIndex': 14}, {'path': 'P/16', 'rowIndex': 15, 'columnIndex': 15}, {'path': 'P/17', 'rowIndex': 15, 'columnIndex': 16}, {'path': 'P/18', 'rowIndex': 15, 'columnIndex': 17}, {'path': 'P/19', 'rowIndex': 15, 'columnIndex': 18}, {'path': 'P/20', 'rowIndex': 15, 'columnIndex': 19}, {'path': 'P/21', 'rowIndex': 15, 'columnIndex': 20}, {'path': 'P/22', 'rowIndex': 15, 'columnIndex': 21}, {'path': 'P/23', 'rowIndex': 15, 'columnIndex': 22}, {'path': 'P/24', 'rowIndex': 15, 'columnIndex': 23}], 'field_count': 9, 'rows': [{'name': 'A'}, {'name': 'B'}, {'name': 'C'}, {'name': 'D'}, {'name': 'E'}, {'name': 'F'}, {'name': 'G'}, {'name': 'H'}, {'name': 'I'}, {'name': 'J'}, {'name': 'K'}, {'name': 'L'}, {'name': 'M'}, {'name': 'N'}, {'name': 'O'}, {'name': 'P'}], 'acquisitions': [{'id': 0}]}}\n"
     ]
    }
   ],
   "source": [
    "zattrs = requests.get(ENDPOINT_URL + ROOT + \"/.zattrs\").json()\n",
    "print(zattrs)"
   ]
  },
  {
   "cell_type": "code",
   "execution_count": 4,
   "id": "0ac96e91",
   "metadata": {},
   "outputs": [
    {
     "name": "stdout",
     "output_type": "stream",
     "text": [
      "A\n"
     ]
    }
   ],
   "source": [
    "print((zattrs['plate']['rows'][0]['name']))"
   ]
  },
  {
   "cell_type": "code",
   "execution_count": 6,
   "id": "9cdf79a1",
   "metadata": {},
   "outputs": [
    {
     "data": {
      "application/vnd.jupyter.widget-view+json": {
       "model_id": "dcf7b77ed57a4c73ac5a2e076b7c7c37",
       "version_major": 2,
       "version_minor": 0
      },
      "text/plain": [
       "Sheet(cells=(Cell(column_end=0, column_start=0, row_end=0, row_start=0, type='text', value='A/1/0/0'), Cell(co…"
      ]
     },
     "metadata": {},
     "output_type": "display_data"
    }
   ],
   "source": [
    "from ipysheet import sheet, cell\n",
    "\n",
    "sheet1 = sheet(rows=len(zattrs['plate']['rows']), columns=len(zattrs['plate']['columns']))\n",
    "for well in zattrs['plate']['wells']:\n",
    "    c = cell(well['rowIndex'], well['columnIndex'], well['path'] + \"/\" + str(well['rowIndex']) + \"/\" + str(well['columnIndex']))\n",
    "\n",
    "display(sheet1)"
   ]
  },
  {
   "cell_type": "code",
   "execution_count": 39,
   "id": "779b2645",
   "metadata": {},
   "outputs": [],
   "source": [
    "def load_dask_array_from_s3(row='0', column='0', name='A/1'):\n",
    "    cache_size_mb = 2048\n",
    "    cfg = {\n",
    "        'anon': True,\n",
    "        'client_kwargs': {\n",
    "            'endpoint_url': 'https://cellpainting-gallery.s3.amazonaws.com/',\n",
    "        },\n",
    "        'root': 'cpg0004-lincs/broad/images/2016_04_01_a549_48hr_batch1/images_zarr/SQ00015098__2016-06-08T18_43_42-Measurement1.ome.zarr/%s/%s/%s/' % (name, row, column)\n",
    "    }\n",
    "    s3 = s3fs.S3FileSystem(\n",
    "        anon=cfg['anon'],\n",
    "        client_kwargs=cfg['client_kwargs'],\n",
    "    )\n",
    "    print(cfg['root'])\n",
    "    store = s3fs.S3Map(root=cfg['root'], s3=s3, check=False)\n",
    "    cached_store = zarr.LRUStoreCache(store, max_size=(cache_size_mb * 2**20))\n",
    "    # data.shape is (t, c, z, y, x) by convention\n",
    "    return da.from_zarr(cached_store)"
   ]
  },
  {
   "cell_type": "code",
   "execution_count": 40,
   "id": "4755fd4a",
   "metadata": {},
   "outputs": [
    {
     "name": "stdout",
     "output_type": "stream",
     "text": [
      "cpg0004-lincs/broad/images/2016_04_01_a549_48hr_batch1/images_zarr/SQ00015098__2016-06-08T18_43_42-Measurement1.ome.zarr/A/1/0/0/\n",
      "CPU times: user 29.5 ms, sys: 13.8 ms, total: 43.3 ms\n",
      "Wall time: 557 ms\n"
     ]
    }
   ],
   "source": [
    "%time data = load_dask_array_from_s3()"
   ]
  },
  {
   "cell_type": "code",
   "execution_count": 41,
   "id": "02ba216a",
   "metadata": {},
   "outputs": [
    {
     "data": {
      "application/vnd.jupyter.widget-view+json": {
       "model_id": "7bad54084896442fa06cd9ed078f2fe0",
       "version_major": 2,
       "version_minor": 0
      },
      "text/plain": [
       "interactive(children=(IntSlider(value=0, continuous_update=False, description='Channel', max=5), IntSlider(val…"
      ]
     },
     "metadata": {},
     "output_type": "display_data"
    }
   ],
   "source": [
    "get_ipython().run_line_magic('matplotlib', 'inline')\n",
    "\n",
    "from skimage import filters\n",
    "from skimage.morphology import closing, square\n",
    "from skimage import measure\n",
    "\n",
    "def display_image(channel=0, v=5):\n",
    "    img = data[0,channel,0,:,:]\n",
    "    # denoising\n",
    "    blurred = filters.median(img)\n",
    "    # binarization\n",
    "    threshold = filters.threshold_otsu(blurred)\n",
    "    binary = closing(blurred <= threshold, square(5))\n",
    "    label_image = measure.label(binary, background=1)\n",
    "    fig, ax = plt.subplots(figsize=(10, 6))\n",
    "    ax.imshow(img)\n",
    "    ax.contour(label_image, [0.5], linewidths=1.2, colors='r')\n",
    "    plt.show()\n",
    "    return label_image\n",
    "\n",
    "\n",
    "output = interactive(display_image, data=data,\n",
    "                     channel=widgets.IntSlider(value=0, min=0, max=data.shape[1], step=1, description=\"Channel\", continuous_update=False),\n",
    "                     v=widgets.IntSlider(value=5, min=1, max=10, step=1, description=\"Threshold\", continuous_update=False))\n",
    "display(output)"
   ]
  },
  {
   "cell_type": "code",
   "execution_count": null,
   "id": "c0fb53d9",
   "metadata": {},
   "outputs": [],
   "source": []
  },
  {
   "cell_type": "code",
   "execution_count": null,
   "id": "41004539",
   "metadata": {},
   "outputs": [],
   "source": []
  }
 ],
 "metadata": {
  "kernelspec": {
   "display_name": "imaging_course",
   "language": "python",
   "name": "imaging_course"
  },
  "language_info": {
   "codemirror_mode": {
    "name": "ipython",
    "version": 3
   },
   "file_extension": ".py",
   "mimetype": "text/x-python",
   "name": "python",
   "nbconvert_exporter": "python",
   "pygments_lexer": "ipython3",
   "version": "3.9.12"
  }
 },
 "nbformat": 4,
 "nbformat_minor": 5
}
