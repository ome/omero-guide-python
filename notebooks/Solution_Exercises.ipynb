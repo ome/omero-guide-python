{
 "cells": [
  {
   "cell_type": "markdown",
   "id": "96c8b534",
   "metadata": {},
   "source": [
    "# Solutions of exercises\n",
    "\n",
    "Exercises are available in a few notebooks. Below are solutions to the exercises.\n",
    "How to use the notebook:\n",
    "\n",
    "* **DO NOT RUN THE NOTEBOOK**\n",
    "* **Copy the code snippet(s) and run the snippet(s) in the relevant notebook**\n"
   ]
  },
  {
   "cell_type": "markdown",
   "id": "72e7d8ac",
   "metadata": {},
   "source": [
    "## Exercises from notebook idr0062_prediction"
   ]
  },
  {
   "cell_type": "markdown",
   "id": "2d61f126",
   "metadata": {},
   "source": [
    "### Exercise 1 "
   ]
  },
  {
   "cell_type": "code",
   "execution_count": null,
   "id": "400876b6",
   "metadata": {},
   "outputs": [],
   "source": [
    "# Question 1: Read the geojson file:\n",
    "import json\n",
    "with open(geojson_file) as f:\n",
    "    d = json.load(f)\n",
    "    s = json.dumps(d)\n",
    "values = geojson.loads(s)"
   ]
  },
  {
   "cell_type": "code",
   "execution_count": null,
   "id": "31031655",
   "metadata": {},
   "outputs": [],
   "source": [
    "# Question 2: Overlay the shapes from a specific plane on the image\n",
    "z = 5\n",
    "fiz, ax = plt.subplots()\n",
    "plt.imshow(data[0, 0, z, :, :], cmap='gray')\n",
    "for i in range(len(value)):\n",
    "    v = value[i]\n",
    "    if v.properties[\"z\"] == z:\n",
    "        label_geojson = numpy.array(v.geometry.coordinates)\n",
    "        p = label_geojson.squeeze()\n",
    "        ax.plot(p[:, 0], p[:, 1], linewidth=v.properties[\"stroke-width\"], color=\"red\")\n",
    "plt.show()"
   ]
  },
  {
   "cell_type": "markdown",
   "id": "1d4034d9",
   "metadata": {},
   "source": [
    "### Exercise 2  "
   ]
  },
  {
   "cell_type": "code",
   "execution_count": null,
   "id": "a2c00b16",
   "metadata": {},
   "outputs": [],
   "source": [
    "# Question 1: Convert the StarDist labels into OMERO polygons\n",
    "import omero\n",
    "image = omero.model.ImageI(image_id, False)\n",
    "for i in range(len(img)):\n",
    "    new_labels, details = model_versatile.predict_instances(img[i])\n",
    "    # Convert into Polygon\n",
    "    rois = []\n",
    "    for obj_id, region in enumerate(details['coord']):\n",
    "        roi = omero.model.RoiI()\n",
    "        roi.setName(rstring(\"Object %s\" % obj_id)\n",
    "        polygon = omero.model.PolygonI()\n",
    "        x = region[1]\n",
    "        y = region[0]\n",
    "        points = \" \".join(\n",
    "            [\"{},{}\".format(x[j], y[j]) for j in range(len(x))])\n",
    "        polygon.setPoints(rstring(points))\n",
    "        polygon.theZ = rint(i)\n",
    "        polygon.theC = rint(0)\n",
    "        roi.addShape(polygon)\n",
    "        # Link the ROI and the image\n",
    "        roi.setImage(image)\n",
    "        rois.append(roi)                    "
   ]
  },
  {
   "cell_type": "code",
   "execution_count": null,
   "id": "870d7290",
   "metadata": {},
   "outputs": [],
   "source": [
    "# Question 2: Save the ROI\n",
    "rois = conn.getUpdateService().saveAndReturnArray(rois)"
   ]
  }
 ],
 "metadata": {
  "kernelspec": {
   "display_name": "Python 3 (ipykernel)",
   "language": "python",
   "name": "python3"
  },
  "language_info": {
   "codemirror_mode": {
    "name": "ipython",
    "version": 3
   },
   "file_extension": ".py",
   "mimetype": "text/x-python",
   "name": "python",
   "nbconvert_exporter": "python",
   "pygments_lexer": "ipython3",
   "version": "3.9.7"
  }
 },
 "nbformat": 4,
 "nbformat_minor": 5
}
