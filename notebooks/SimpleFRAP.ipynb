{
 "cells": [
  {
   "cell_type": "markdown",
   "metadata": {},
   "source": [
    "# Simple FRAP script\n",
    "[![Open in Colab](https://colab.research.google.com/assets/colab-badge.svg)](https://colab.research.google.com/github/ome/omero-guide-python/blob/master/notebooks/SimpleFRAP.ipynb)"
   ]
  },
  {
   "cell_type": "markdown",
   "metadata": {},
   "source": [
    "This script analyzes a fluorescence time-lapse image, measuring the intensity in a named Channel within a ROI. The intensity is plotted over time."
   ]
  },
  {
   "cell_type": "markdown",
   "metadata": {},
   "source": [
    "### Install dependencies if required\n",
    "The cell below will install dependencies if you choose to run the notebook in [Google Colab](https://colab.research.google.com/notebooks/intro.ipynb#recent=true). "
   ]
  },
  {
   "cell_type": "code",
   "execution_count": 1,
   "metadata": {},
   "outputs": [],
   "source": [
    "# Ice Python binding\n",
    "%pip install https://github.com/glencoesoftware/zeroc-ice-py-linux-x86_64/releases/download/20240202/zeroc_ice-3.6.5-cp310-cp310-manylinux_2_28_x86_64.whl\n",
    "# Package required to interact with IDR or OMERO\n",
    "%pip install omero-py==5.19.2"
   ]
  },
  {
   "cell_type": "markdown",
   "metadata": {},
   "source": [
    "## Import packages"
   ]
  },
  {
   "cell_type": "code",
   "execution_count": 1,
   "metadata": {},
   "outputs": [],
   "source": [
    "from omero.gateway import BlitzGateway, MapAnnotationWrapper\n",
    "from omero.model import EllipseI\n",
    "from PIL import Image\n",
    "import numpy as np\n",
    "import matplotlib\n",
    "from matplotlib import pyplot as plt\n",
    "from getpass import getpass\n",
    "# only used in the Jupyter notebook context for displaying a plot:\n",
    "from IPython.display import Image as ipImage, display\n",
    "import ipywidgets as widgets"
   ]
  },
  {
   "cell_type": "markdown",
   "metadata": {},
   "source": [
    "## Create a connection to the OMERO Server\n",
    "\n",
    "You will be asked to enter username and password when running the next cell. Please press Enter after each. "
   ]
  },
  {
   "cell_type": "code",
   "execution_count": 2,
   "metadata": {},
   "outputs": [
    {
     "name": "stdin",
     "output_type": "stream",
     "text": [
      "Username:  trainer-1\n",
      "OMERO Password:  ········\n"
     ]
    },
    {
     "name": "stdout",
     "output_type": "stream",
     "text": [
      "Connected as trainer-1\n"
     ]
    }
   ],
   "source": [
    "def connect(hostname, username, password):\n",
    "    \"\"\"\n",
    "    Connect to an OMERO server\n",
    "    :param hostname: Host name\n",
    "    :param username: User\n",
    "    :param password: Password\n",
    "    :return: Connected BlitzGateway\n",
    "    \"\"\"\n",
    "    conn = BlitzGateway(username, password,\n",
    "                        host=hostname, secure=True)\n",
    "    conn.connect()\n",
    "    conn.c.enableKeepAlive(60)\n",
    "    return conn\n",
    "\n",
    "HOST = 'wss://workshop.openmicroscopy.org/omero-ws'\n",
    "conn = connect(HOST, input(\"Username: \"), getpass(\"OMERO Password: \"))\n",
    "print(\"Connected as {}\".format(conn.getUser().getName()))"
   ]
  },
  {
   "cell_type": "markdown",
   "metadata": {},
   "source": [
    "## Load Image"
   ]
  },
  {
   "cell_type": "code",
   "execution_count": 3,
   "metadata": {},
   "outputs": [
    {
     "name": "stdin",
     "output_type": "stream",
     "text": [
      "Image ID:  28662\n"
     ]
    },
    {
     "name": "stdout",
     "output_type": "stream",
     "text": [
      "Image U20S-RCC1.10_R3D_FRAP.dv loaded\n"
     ]
    }
   ],
   "source": [
    "image_id = input(\"Image ID: \")\n",
    "img = conn.getObject(\"Image\", image_id)\n",
    "print(\"Image {} loaded\".format(img.getName()))"
   ]
  },
  {
   "cell_type": "markdown",
   "metadata": {},
   "source": [
    "## Select the relevant channel"
   ]
  },
  {
   "cell_type": "code",
   "execution_count": 4,
   "metadata": {},
   "outputs": [
    {
     "data": {
      "application/vnd.jupyter.widget-view+json": {
       "model_id": "564b1660b844403abf684ed971035e4f",
       "version_major": 2,
       "version_minor": 0
      },
      "text/plain": [
       "Dropdown(description='Name: ', options=('528.0', '1', '2'), value='528.0')"
      ]
     },
     "metadata": {},
     "output_type": "display_data"
    }
   ],
   "source": [
    "def dropdown_widget(values,\n",
    "                    dropdown_widget_name,\n",
    "                    displaywidget=False):\n",
    "\n",
    "    alg_sel = widgets.Dropdown(\n",
    "        options=values,\n",
    "        value=values[0],\n",
    "        description=dropdown_widget_name,\n",
    "        disabled=False,\n",
    "    )\n",
    "    if displaywidget is True:\n",
    "        display(alg_sel)\n",
    "    return alg_sel\n",
    "\n",
    "labels = img.getChannelLabels()\n",
    "channel_name = dropdown_widget(\n",
    "    img.getChannelLabels(),\n",
    "    'Name: ', True\n",
    ")"
   ]
  },
  {
   "cell_type": "code",
   "execution_count": 5,
   "metadata": {},
   "outputs": [
    {
     "name": "stdout",
     "output_type": "stream",
     "text": [
      "Channel index: 0\n"
     ]
    }
   ],
   "source": [
    "channel_idx = labels.index(channel_name.value)\n",
    "print(\"Channel index: {}\".format(channel_idx))"
   ]
  },
  {
   "cell_type": "markdown",
   "metadata": {},
   "source": [
    "## Get the ellipse ROI:"
   ]
  },
  {
   "cell_type": "code",
   "execution_count": 6,
   "metadata": {},
   "outputs": [
    {
     "name": "stdout",
     "output_type": "stream",
     "text": [
      "Shape ID: 2067304\n"
     ]
    }
   ],
   "source": [
    "def get_ellipse_roi(conn, image):\n",
    "    \"\"\"\n",
    "    Get the first ellipse ROI found in the image\n",
    "    :param conn: The BlitzGateway\n",
    "    :param image: The Image\n",
    "    :return: The shape ID of the first ellipse ROI found\n",
    "    \"\"\"\n",
    "    roi_service = conn.getRoiService()\n",
    "    result = roi_service.findByImage(image.getId(), None)\n",
    "    shape_id = None\n",
    "    for roi in result.rois:\n",
    "        for s in roi.copyShapes():\n",
    "            if type(s) == EllipseI:\n",
    "                shape_id = s.id.val\n",
    "    return shape_id\n",
    "\n",
    "ellipse_id = get_ellipse_roi(conn, img)\n",
    "print(\"Shape ID: {}\".format(ellipse_id))"
   ]
  },
  {
   "cell_type": "markdown",
   "metadata": {},
   "source": [
    "## Get the mean intensities"
   ]
  },
  {
   "cell_type": "code",
   "execution_count": 7,
   "metadata": {},
   "outputs": [
    {
     "name": "stdout",
     "output_type": "stream",
     "text": [
      "[287.48524234169406, 276.46646941335575, 270.09629821777344, 139.07519551327354, 152.9218312815616, 160.5943051388389, 167.5860084734465, 173.7293785496762, 178.01229025188246, 182.5849669607062, 187.2157184199283, 190.51632288882607, 194.66981717159874, 197.61024485136332, 200.80241956208883, 202.45595620807848, 204.38025655244527, 207.00919251692923, 208.20408770912573, 211.28397078263131, 213.07126978824013, 216.4378325813695, 218.38828458284078, 218.68307103608785, 220.4650041680587, 220.1416809684352, 222.28871134707802, 223.28039560819926, 222.75595524436548, 224.35019633644507, 224.09511184692383, 225.55639799017655, 227.83410905536851, 227.41890415392425, 228.06322690060264, 227.3284357974404, 227.09195739344545, 228.9166102158396, 228.779549749274, 229.96900719090513, 229.15343425148413, 230.5665205905312, 231.55242417988023, 230.12088976408305, 231.9381594406931, 233.1758010261937, 231.51929674650492, 231.6885616904811, 231.0371178074887, 228.50869911595396, 230.09624872709574, 227.5530776977539, 229.17863504510177, 230.55075585214715, 228.91431155957673, 227.15299726787367, 226.99042139555277, 226.8221617246929, 224.5750632035105, 224.84449406674034, 223.3046942259136, 224.13170402928404, 224.28872429697137, 224.19471339175576]\n"
     ]
    }
   ],
   "source": [
    "def get_mean_intensities(conn, image, the_c, shape_id):\n",
    "    \"\"\"\n",
    "    Get the mean pixel intensities of a ROI in a time series image\n",
    "    :param conn: The BlitzGateway\n",
    "    :param image: The image\n",
    "    :param the_c: The channel index\n",
    "    :param shape_id: The ROI shape id\n",
    "    :return: List of mean intensity values (one for each timepoint)\n",
    "    \"\"\"\n",
    "    roi_service = conn.getRoiService()\n",
    "    the_z = 0\n",
    "    size_t = image.getSizeT()\n",
    "    meanvalues = []\n",
    "    for t in range(size_t):\n",
    "        stats = roi_service.getShapeStatsRestricted([shape_id],\n",
    "                                                    the_z, t, [the_c])\n",
    "        meanvalues.append(stats[0].mean[0])\n",
    "    return meanvalues\n",
    "\n",
    "values = get_mean_intensities(conn, img, channel_idx, ellipse_id)\n",
    "print(values)"
   ]
  },
  {
   "cell_type": "markdown",
   "metadata": {},
   "source": [
    "## Plot the data"
   ]
  },
  {
   "cell_type": "code",
   "execution_count": 8,
   "metadata": {},
   "outputs": [
    {
     "data": {
      "image/png": "[encoded data removed]",
      "text/plain": [
       "<IPython.core.display.Image object>"
      ]
     },
     "metadata": {},
     "output_type": "display_data"
    }
   ],
   "source": [
    "def plot(values, plot_filename):\n",
    "    \"\"\"\n",
    "    Create a simple plot of the given values\n",
    "    and saves it.\n",
    "    :param values: The values\n",
    "    :param plot_filename: The file name\n",
    "    :return: Nothing\n",
    "    \"\"\"\n",
    "    matplotlib.use('Agg')\n",
    "    fig = plt.figure()\n",
    "    plt.subplot(111)\n",
    "    plt.plot(values)\n",
    "    fig.canvas.draw()\n",
    "    fig.savefig(plot_filename)\n",
    "    pil_img = Image.open(plot_filename)\n",
    "    pil_img.show()\n",
    "\n",
    "plot(values, \"plot.png\")\n",
    "display(ipImage(\"plot.png\"))"
   ]
  },
  {
   "cell_type": "markdown",
   "metadata": {},
   "source": [
    "## Save the results"
   ]
  },
  {
   "cell_type": "code",
   "execution_count": 9,
   "metadata": {},
   "outputs": [
    {
     "name": "stdout",
     "output_type": "stream",
     "text": [
      "Values saved.\n"
     ]
    }
   ],
   "source": [
    "def save_values(conn, image, values):\n",
    "    \"\"\"\n",
    "    Attach the values as map annotation to the image\n",
    "    :param conn: The BlitzGateway\n",
    "    :param image: The image\n",
    "    :param values: The values\n",
    "    :return: Nothing\n",
    "    \"\"\"\n",
    "    namespace = \"demo.simple_frap_data\"\n",
    "    key_value_data = [[str(t), str(value)] for t, value in enumerate(values)]\n",
    "    map_ann = MapAnnotationWrapper(conn)\n",
    "    map_ann.setNs(namespace)\n",
    "    map_ann.setValue(key_value_data)\n",
    "    map_ann.save()\n",
    "    image.linkAnnotation(map_ann)\n",
    "    \n",
    "save_values(conn, img, values)\n",
    "print(\"Values saved.\")"
   ]
  },
  {
   "cell_type": "code",
   "execution_count": 10,
   "metadata": {},
   "outputs": [
    {
     "name": "stdout",
     "output_type": "stream",
     "text": [
      "Plot saved.\n"
     ]
    }
   ],
   "source": [
    "def save_plot(conn, image, plot_filename):\n",
    "    \"\"\"\n",
    "    Save the plot to OMERO\n",
    "    :param conn: The BlitzGateway\n",
    "    :param image: The image\n",
    "    :param plot_filename: The path to the plot image\n",
    "    :return: Nothing\n",
    "    \"\"\"\n",
    "    pil_img = Image.open(plot_filename)\n",
    "    np_array = np.asarray(pil_img)\n",
    "    red = np_array[::, ::, 0]\n",
    "    green = np_array[::, ::, 1]\n",
    "    blue = np_array[::, ::, 2]\n",
    "    plane_gen = iter([red, green, blue])\n",
    "    conn.createImageFromNumpySeq(plane_gen, plot_filename, sizeC=3,\n",
    "                                     dataset=image.getParent())\n",
    "    \n",
    "save_plot(conn, img, \"plot.png\")\n",
    "print(\"Plot saved.\")"
   ]
  },
  {
   "cell_type": "markdown",
   "metadata": {},
   "source": [
    "## Close the connection"
   ]
  },
  {
   "cell_type": "code",
   "execution_count": 11,
   "metadata": {},
   "outputs": [],
   "source": [
    "def disconnect(conn):\n",
    "    \"\"\"\n",
    "    Disconnect from an OMERO server\n",
    "    :param conn: The BlitzGateway\n",
    "    \"\"\"\n",
    "    conn.close()\n",
    "\n",
    "disconnect(conn)"
   ]
  },
  {
   "cell_type": "markdown",
   "metadata": {},
   "source": [
    "### License (BSD 2-Clause)\n",
    "Copyright (C) 2019-2024 University of Dundee. All Rights Reserved.\n",
    "\n",
    "Redistribution and use in source and binary forms, with or without modification, are permitted provided that the following conditions are met:\n",
    "\n",
    "Redistributions of source code must retain the above copyright notice, this list of conditions and the following disclaimer.\n",
    "Redistributions in binary form must reproduce the above copyright notice, this list of conditions and the following disclaimer in the documentation and/or other materials provided with the distribution.\n",
    "THIS SOFTWARE IS PROVIDED BY THE COPYRIGHT HOLDERS AND CONTRIBUTORS \"AS IS\" AND ANY EXPRESS OR IMPLIED WARRANTIES, INCLUDING, BUT NOT LIMITED TO, THE IMPLIED WARRANTIES OF MERCHANTABILITY AND FITNESS FOR A PARTICULAR PURPOSE ARE DISCLAIMED. IN NO EVENT SHALL THE COPYRIGHT OWNER OR CONTRIBUTORS BE LIABLE FOR ANY DIRECT, INDIRECT, INCIDENTAL, SPECIAL, EXEMPLARY, OR CONSEQUENTIAL DAMAGES (INCLUDING, BUT NOT LIMITED TO, PROCUREMENT OF SUBSTITUTE GOODS OR SERVICES; LOSS OF USE, DATA, OR PROFITS; OR BUSINESS INTERRUPTION) HOWEVER CAUSED AND ON ANY THEORY OF LIABILITY, WHETHER IN CONTRACT, STRICT LIABILITY, OR TORT (INCLUDING NEGLIGENCE OR OTHERWISE) ARISING IN ANY WAY OUT OF THE USE OF THIS SOFTWARE, EVEN IF ADVISED OF THE POSSIBILITY OF SUCH DAMAGE."
   ]
  }
 ],
 "metadata": {
  "kernelspec": {
   "display_name": "Python 3 (ipykernel)",
   "language": "python",
   "name": "python3"
  },
  "language_info": {
   "codemirror_mode": {
    "name": "ipython",
    "version": 3
   },
   "file_extension": ".py",
   "mimetype": "text/x-python",
   "name": "python",
   "nbconvert_exporter": "python",
   "pygments_lexer": "ipython3",
   "version": "3.9.18"
  }
 },
 "nbformat": 4,
 "nbformat_minor": 4
}
